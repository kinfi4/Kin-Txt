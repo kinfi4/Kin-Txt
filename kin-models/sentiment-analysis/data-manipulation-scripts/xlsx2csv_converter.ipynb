{
 "cells": [
  {
   "cell_type": "code",
   "execution_count": 1,
   "id": "initial_id",
   "metadata": {
    "collapsed": true,
    "ExecuteTime": {
     "end_time": "2023-08-17T06:21:37.322914713Z",
     "start_time": "2023-08-17T06:21:37.095083911Z"
    }
   },
   "outputs": [],
   "source": [
    "import pandas as pd"
   ]
  },
  {
   "cell_type": "code",
   "execution_count": 17,
   "outputs": [],
   "source": [
    "df = pd.read_excel(\"../data/ua_reviews.xlsx\")"
   ],
   "metadata": {
    "collapsed": false,
    "ExecuteTime": {
     "end_time": "2023-08-17T06:27:15.621408788Z",
     "start_time": "2023-08-17T06:27:08.059759690Z"
    }
   },
   "id": "f2b22e00c7bcfa1d"
  },
  {
   "cell_type": "code",
   "execution_count": 18,
   "outputs": [
    {
     "data": {
      "text/plain": "          asin                                       product_name  helpful  \\\n0   B0007QCQA4   adidas Originals Men's Superstar II Basketbal...   0 of 1   \n1   B0002Y2JYY   Elite Metal Aviator Sunglasses with Mirror Le...   3 of 5   \n2   B0002X9A5G                          5-Pack Bodysuits: Apparel   1 of 1   \n3   B0002X9A5G                          5-Pack Bodysuits: Apparel   0 of 1   \n4   B0006UHRJQ     3-Pack Straight Edge (non-skid) Socks: Apparel   8 of 8   \n\n   rating                          title                date  \\\n0       4                  GOOD SNEAKERS       July 15, 2006   \n1       4                    Pretty Good     August 13, 2006   \n2       5   Can't go wrong at this price        May 18, 2006   \n3       5                         Green!   February 28, 2006   \n4       5                       perfect!   December 15, 2005   \n\n                          reviewer         reviewer_location  \\\n0   Christopher W. Damico \"MACMAN\"                       NYC   \n1   Sharon Civile \"Jackbauerfreak\"          Philadelphia, PA   \n2          J. Gould \"south_paw712\"                        KY   \n3                       S. Feldman   Virginia, United States   \n4                  Amanda Kathleen             Delaware, USA   \n\n                                         review_text Class  \n0  Добре дивлячись удари, якщо ваш кік це стара ш...   pos  \n1  Ці сонячні окуляри все гаразд. Вони були трохи...   pos  \n2  Я не бачу різницю між цими тілами та більш дор...   pos  \n3  Дуже приємний базовий одяг. Я думаю, що розмір...   pos  \n4  Я люблю ці шкарпетки. Вони підходять великі (м...   pos  ",
      "text/html": "<div>\n<style scoped>\n    .dataframe tbody tr th:only-of-type {\n        vertical-align: middle;\n    }\n\n    .dataframe tbody tr th {\n        vertical-align: top;\n    }\n\n    .dataframe thead th {\n        text-align: right;\n    }\n</style>\n<table border=\"1\" class=\"dataframe\">\n  <thead>\n    <tr style=\"text-align: right;\">\n      <th></th>\n      <th>asin</th>\n      <th>product_name</th>\n      <th>helpful</th>\n      <th>rating</th>\n      <th>title</th>\n      <th>date</th>\n      <th>reviewer</th>\n      <th>reviewer_location</th>\n      <th>review_text</th>\n      <th>Class</th>\n    </tr>\n  </thead>\n  <tbody>\n    <tr>\n      <th>0</th>\n      <td>B0007QCQA4</td>\n      <td>adidas Originals Men's Superstar II Basketbal...</td>\n      <td>0 of 1</td>\n      <td>4</td>\n      <td>GOOD SNEAKERS</td>\n      <td>July 15, 2006</td>\n      <td>Christopher W. Damico \"MACMAN\"</td>\n      <td>NYC</td>\n      <td>Добре дивлячись удари, якщо ваш кік це стара ш...</td>\n      <td>pos</td>\n    </tr>\n    <tr>\n      <th>1</th>\n      <td>B0002Y2JYY</td>\n      <td>Elite Metal Aviator Sunglasses with Mirror Le...</td>\n      <td>3 of 5</td>\n      <td>4</td>\n      <td>Pretty Good</td>\n      <td>August 13, 2006</td>\n      <td>Sharon Civile \"Jackbauerfreak\"</td>\n      <td>Philadelphia, PA</td>\n      <td>Ці сонячні окуляри все гаразд. Вони були трохи...</td>\n      <td>pos</td>\n    </tr>\n    <tr>\n      <th>2</th>\n      <td>B0002X9A5G</td>\n      <td>5-Pack Bodysuits: Apparel</td>\n      <td>1 of 1</td>\n      <td>5</td>\n      <td>Can't go wrong at this price</td>\n      <td>May 18, 2006</td>\n      <td>J. Gould \"south_paw712\"</td>\n      <td>KY</td>\n      <td>Я не бачу різницю між цими тілами та більш дор...</td>\n      <td>pos</td>\n    </tr>\n    <tr>\n      <th>3</th>\n      <td>B0002X9A5G</td>\n      <td>5-Pack Bodysuits: Apparel</td>\n      <td>0 of 1</td>\n      <td>5</td>\n      <td>Green!</td>\n      <td>February 28, 2006</td>\n      <td>S. Feldman</td>\n      <td>Virginia, United States</td>\n      <td>Дуже приємний базовий одяг. Я думаю, що розмір...</td>\n      <td>pos</td>\n    </tr>\n    <tr>\n      <th>4</th>\n      <td>B0006UHRJQ</td>\n      <td>3-Pack Straight Edge (non-skid) Socks: Apparel</td>\n      <td>8 of 8</td>\n      <td>5</td>\n      <td>perfect!</td>\n      <td>December 15, 2005</td>\n      <td>Amanda Kathleen</td>\n      <td>Delaware, USA</td>\n      <td>Я люблю ці шкарпетки. Вони підходять великі (м...</td>\n      <td>pos</td>\n    </tr>\n  </tbody>\n</table>\n</div>"
     },
     "execution_count": 18,
     "metadata": {},
     "output_type": "execute_result"
    }
   ],
   "source": [
    "df.head()"
   ],
   "metadata": {
    "collapsed": false,
    "ExecuteTime": {
     "end_time": "2023-08-17T06:27:15.630714874Z",
     "start_time": "2023-08-17T06:27:15.628415795Z"
    }
   },
   "id": "52a27cd5e0925acb"
  },
  {
   "cell_type": "code",
   "execution_count": 19,
   "outputs": [],
   "source": [
    "df = df[[\"review_text\", \"rating\", \"Class\"]]"
   ],
   "metadata": {
    "collapsed": false,
    "ExecuteTime": {
     "end_time": "2023-08-17T06:27:15.708819937Z",
     "start_time": "2023-08-17T06:27:15.631680608Z"
    }
   },
   "id": "d8de5e4ad6b38a34"
  },
  {
   "cell_type": "code",
   "execution_count": 23,
   "outputs": [],
   "source": [
    "df = df.rename(columns={\"Class\": \"label\", \"review_text\": \"text\"})"
   ],
   "metadata": {
    "collapsed": false,
    "ExecuteTime": {
     "end_time": "2023-08-17T06:28:01.862009480Z",
     "start_time": "2023-08-17T06:28:01.817032816Z"
    }
   },
   "id": "c58edcd92837c288"
  },
  {
   "cell_type": "code",
   "execution_count": 24,
   "outputs": [
    {
     "data": {
      "text/plain": "                                                text  rating label\n0  Добре дивлячись удари, якщо ваш кік це стара ш...       4   pos\n1  Ці сонячні окуляри все гаразд. Вони були трохи...       4   pos\n2  Я не бачу різницю між цими тілами та більш дор...       5   pos\n3  Дуже приємний базовий одяг. Я думаю, що розмір...       5   pos\n4  Я люблю ці шкарпетки. Вони підходять великі (м...       5   pos",
      "text/html": "<div>\n<style scoped>\n    .dataframe tbody tr th:only-of-type {\n        vertical-align: middle;\n    }\n\n    .dataframe tbody tr th {\n        vertical-align: top;\n    }\n\n    .dataframe thead th {\n        text-align: right;\n    }\n</style>\n<table border=\"1\" class=\"dataframe\">\n  <thead>\n    <tr style=\"text-align: right;\">\n      <th></th>\n      <th>text</th>\n      <th>rating</th>\n      <th>label</th>\n    </tr>\n  </thead>\n  <tbody>\n    <tr>\n      <th>0</th>\n      <td>Добре дивлячись удари, якщо ваш кік це стара ш...</td>\n      <td>4</td>\n      <td>pos</td>\n    </tr>\n    <tr>\n      <th>1</th>\n      <td>Ці сонячні окуляри все гаразд. Вони були трохи...</td>\n      <td>4</td>\n      <td>pos</td>\n    </tr>\n    <tr>\n      <th>2</th>\n      <td>Я не бачу різницю між цими тілами та більш дор...</td>\n      <td>5</td>\n      <td>pos</td>\n    </tr>\n    <tr>\n      <th>3</th>\n      <td>Дуже приємний базовий одяг. Я думаю, що розмір...</td>\n      <td>5</td>\n      <td>pos</td>\n    </tr>\n    <tr>\n      <th>4</th>\n      <td>Я люблю ці шкарпетки. Вони підходять великі (м...</td>\n      <td>5</td>\n      <td>pos</td>\n    </tr>\n  </tbody>\n</table>\n</div>"
     },
     "execution_count": 24,
     "metadata": {},
     "output_type": "execute_result"
    }
   ],
   "source": [
    "df.head()"
   ],
   "metadata": {
    "collapsed": false,
    "ExecuteTime": {
     "end_time": "2023-08-17T06:28:02.240533484Z",
     "start_time": "2023-08-17T06:28:02.232135528Z"
    }
   },
   "id": "eb807cacf5a2258f"
  },
  {
   "cell_type": "code",
   "execution_count": 22,
   "outputs": [
    {
     "data": {
      "text/plain": "pos    21902\nneg    16534\nName: label, dtype: int64"
     },
     "execution_count": 22,
     "metadata": {},
     "output_type": "execute_result"
    }
   ],
   "source": [
    "df[\"label\"].value_counts()"
   ],
   "metadata": {
    "collapsed": false,
    "ExecuteTime": {
     "end_time": "2023-08-17T06:27:23.315072361Z",
     "start_time": "2023-08-17T06:27:23.086307050Z"
    }
   },
   "id": "e42ee5be1e87d93c"
  },
  {
   "cell_type": "code",
   "execution_count": 25,
   "outputs": [],
   "source": [
    "df.to_csv(\"../data/ua_reviews.csv\", index=False)"
   ],
   "metadata": {
    "collapsed": false,
    "ExecuteTime": {
     "end_time": "2023-08-17T06:28:08.441060131Z",
     "start_time": "2023-08-17T06:28:07.804583153Z"
    }
   },
   "id": "fb7b94767c8e64ed"
  },
  {
   "cell_type": "code",
   "execution_count": null,
   "outputs": [],
   "source": [],
   "metadata": {
    "collapsed": false
   },
   "id": "bab07c297b5fdb3c"
  }
 ],
 "metadata": {
  "kernelspec": {
   "display_name": "Python 3",
   "language": "python",
   "name": "python3"
  },
  "language_info": {
   "codemirror_mode": {
    "name": "ipython",
    "version": 2
   },
   "file_extension": ".py",
   "mimetype": "text/x-python",
   "name": "python",
   "nbconvert_exporter": "python",
   "pygments_lexer": "ipython2",
   "version": "2.7.6"
  }
 },
 "nbformat": 4,
 "nbformat_minor": 5
}
