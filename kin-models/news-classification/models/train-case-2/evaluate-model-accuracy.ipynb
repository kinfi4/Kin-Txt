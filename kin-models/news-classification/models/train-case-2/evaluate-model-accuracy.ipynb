{
 "cells": [
  {
   "cell_type": "code",
   "execution_count": 1,
   "id": "initial_id",
   "metadata": {
    "collapsed": true,
    "ExecuteTime": {
     "end_time": "2024-04-23T16:49:44.722182Z",
     "start_time": "2024-04-23T16:49:37.358Z"
    }
   },
   "outputs": [],
   "source": [
    "from typing import Tuple\n",
    "\n",
    "import pandas as pd\n",
    "import tensorflow as tf\n",
    "from keras import models\n",
    "from keras.utils import to_categorical\n",
    "from sklearn.preprocessing import LabelEncoder\n",
    "from transformers import BertTokenizer, BatchEncoding, PreTrainedTokenizerBase, TFBertModel\n",
    "\n",
    "tf.get_logger().setLevel('ERROR')"
   ]
  },
  {
   "cell_type": "code",
   "outputs": [],
   "source": [
    "MAX_LENGTH = 360\n",
    "CATEGORIES_NUMBER = 5"
   ],
   "metadata": {
    "collapsed": false,
    "ExecuteTime": {
     "end_time": "2024-04-23T16:49:58.422423Z",
     "start_time": "2024-04-23T16:49:58.404406Z"
    }
   },
   "id": "730af2fcf7c9801e",
   "execution_count": 3
  },
  {
   "cell_type": "code",
   "outputs": [],
   "source": [
    "df = pd.read_csv(\"./test-dataset.csv\", header=0)"
   ],
   "metadata": {
    "collapsed": false,
    "ExecuteTime": {
     "end_time": "2024-04-23T16:50:00.287915Z",
     "start_time": "2024-04-23T16:50:00.171809Z"
    }
   },
   "id": "34475b8235dbf908",
   "execution_count": 4
  },
  {
   "cell_type": "code",
   "outputs": [],
   "source": [
    "tokenizer = BertTokenizer.from_pretrained(\"bert-base-multilingual-uncased\")"
   ],
   "metadata": {
    "collapsed": false,
    "ExecuteTime": {
     "end_time": "2024-04-23T16:50:02.956552Z",
     "start_time": "2024-04-23T16:50:01.139836Z"
    }
   },
   "id": "b0aa4b1beb2a4fc9",
   "execution_count": 5
  },
  {
   "cell_type": "code",
   "outputs": [],
   "source": [
    "def encode_texts(dataset_: pd.DataFrame, pretrained_tokenizer: PreTrainedTokenizerBase) -> Tuple[BatchEncoding, pd.Series, LabelEncoder]:\n",
    "    _encodings = pretrained_tokenizer(dataset_[\"txt\"].tolist(), truncation=True, padding=\"max_length\", max_length=MAX_LENGTH)\n",
    "\n",
    "    _label_encoder = LabelEncoder()\n",
    "    encoded_labels = _label_encoder.fit_transform(dataset_[\"category\"])\n",
    "    categorical_labels = to_categorical(encoded_labels)\n",
    "\n",
    "    return _encodings, categorical_labels, _label_encoder"
   ],
   "metadata": {
    "collapsed": false,
    "ExecuteTime": {
     "end_time": "2024-04-23T16:50:02.972108Z",
     "start_time": "2024-04-23T16:50:02.957553Z"
    }
   },
   "id": "bed851df66232a50",
   "execution_count": 6
  },
  {
   "cell_type": "code",
   "outputs": [],
   "source": [
    "encodings, labels, label_encoder = encode_texts(df, tokenizer)"
   ],
   "metadata": {
    "collapsed": false,
    "ExecuteTime": {
     "end_time": "2024-04-23T16:50:04.089318Z",
     "start_time": "2024-04-23T16:50:02.973109Z"
    }
   },
   "id": "403fd098813da597",
   "execution_count": 7
  },
  {
   "cell_type": "code",
   "outputs": [],
   "source": [
    "model = models.load_model(\"./news-classification-model\", custom_objects={\"TFBertModel\": TFBertModel})"
   ],
   "metadata": {
    "collapsed": false,
    "ExecuteTime": {
     "end_time": "2024-04-23T16:50:25.040375Z",
     "start_time": "2024-04-23T16:50:04.090319Z"
    }
   },
   "id": "9b582142f50ce63a",
   "execution_count": 8
  },
  {
   "cell_type": "code",
   "outputs": [],
   "source": [
    "def create_tf_dataset(encodings_: BatchEncoding, labels_: pd.Series) -> tf.data.Dataset:\n",
    "    input_dict = {\n",
    "        \"input_ids\": encodings_[\"input_ids\"],\n",
    "        \"attention_mask\": encodings_[\"attention_mask\"],\n",
    "    }\n",
    "\n",
    "    dataset_ = tf.data.Dataset.from_tensor_slices((input_dict, labels_))\n",
    "    return dataset_.shuffle(1024).batch(1)"
   ],
   "metadata": {
    "collapsed": false,
    "ExecuteTime": {
     "end_time": "2024-04-23T16:50:25.056390Z",
     "start_time": "2024-04-23T16:50:25.041376Z"
    }
   },
   "id": "d41bdd7052c25207",
   "execution_count": 9
  },
  {
   "cell_type": "code",
   "outputs": [],
   "source": [
    "test_dataset = create_tf_dataset(encodings, labels)"
   ],
   "metadata": {
    "collapsed": false,
    "ExecuteTime": {
     "end_time": "2024-04-23T16:50:25.568856Z",
     "start_time": "2024-04-23T16:50:25.057390Z"
    }
   },
   "id": "7c7309f23f33d644",
   "execution_count": 10
  },
  {
   "cell_type": "code",
   "outputs": [
    {
     "name": "stdout",
     "output_type": "stream",
     "text": [
      "550/550 [==============================] - 24s 38ms/step - loss: 1.1576 - accuracy: 0.7636\n",
      "The size of test dataset: 550\n",
      "The loss of the model on the test dataset: 1.15759\n",
      "The accuracy of the model on the test dataset: 76.3636%\n"
     ]
    }
   ],
   "source": [
    "test_loss, test_accuracy = model.evaluate(test_dataset)\n",
    "\n",
    "print(f\"The size of test dataset: {len(test_dataset)}\")\n",
    "print(f\"The loss of the model on the test dataset: {round(test_loss, 5)}\")\n",
    "print(f\"The accuracy of the model on the test dataset: {round(test_accuracy*100, 4)}%\")"
   ],
   "metadata": {
    "collapsed": false,
    "ExecuteTime": {
     "end_time": "2024-04-23T16:50:49.610769Z",
     "start_time": "2024-04-23T16:50:25.569857Z"
    }
   },
   "id": "122c15dc8ad1ee26",
   "execution_count": 11
  },
  {
   "cell_type": "code",
   "outputs": [],
   "source": [],
   "metadata": {
    "collapsed": false,
    "ExecuteTime": {
     "end_time": "2024-04-23T15:46:01.580593Z",
     "start_time": "2024-04-23T15:46:01.573588Z"
    }
   },
   "id": "d54cb8da57e0425d",
   "execution_count": 19
  }
 ],
 "metadata": {
  "kernelspec": {
   "display_name": "Python 3",
   "language": "python",
   "name": "python3"
  },
  "language_info": {
   "codemirror_mode": {
    "name": "ipython",
    "version": 2
   },
   "file_extension": ".py",
   "mimetype": "text/x-python",
   "name": "python",
   "nbconvert_exporter": "python",
   "pygments_lexer": "ipython2",
   "version": "2.7.6"
  }
 },
 "nbformat": 4,
 "nbformat_minor": 5
}
