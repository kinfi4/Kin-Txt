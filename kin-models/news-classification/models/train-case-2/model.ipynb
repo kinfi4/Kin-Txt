{
 "cells": [
  {
   "cell_type": "code",
   "execution_count": 1,
   "id": "initial_id",
   "metadata": {
    "collapsed": true,
    "ExecuteTime": {
     "end_time": "2024-04-24T14:54:47.093696Z",
     "start_time": "2024-04-24T14:54:35.039310Z"
    }
   },
   "outputs": [],
   "source": [
    "from typing import Tuple\n",
    "\n",
    "import numpy as np\n",
    "import pandas as pd\n",
    "import tensorflow as tf\n",
    "from keras import models, layers, optimizers, losses\n",
    "from keras.utils import to_categorical\n",
    "from sklearn.preprocessing import LabelEncoder\n",
    "from transformers import BertTokenizer, BatchEncoding, PreTrainedTokenizerBase\n",
    "\n",
    "tf.get_logger().setLevel('ERROR')"
   ]
  },
  {
   "cell_type": "code",
   "outputs": [],
   "source": [
    "MAX_LENGTH = 360\n",
    "CATEGORIES_NUMBER = 5"
   ],
   "metadata": {
    "collapsed": false,
    "ExecuteTime": {
     "end_time": "2024-04-24T14:54:47.109710Z",
     "start_time": "2024-04-24T14:54:47.094697Z"
    }
   },
   "id": "3439d3ace0e74776",
   "execution_count": 2
  },
  {
   "cell_type": "code",
   "outputs": [],
   "source": [
    "df_train = pd.read_csv(\"./train-dataset.csv\", header=0)\n",
    "df_test = pd.read_csv(\"./test-dataset.csv\", header=0)"
   ],
   "metadata": {
    "collapsed": false,
    "ExecuteTime": {
     "end_time": "2024-04-24T14:55:03.358935Z",
     "start_time": "2024-04-24T14:55:03.269853Z"
    }
   },
   "id": "5c7458f361d9294e",
   "execution_count": 3
  },
  {
   "cell_type": "code",
   "outputs": [],
   "source": [
    "tokenizer = BertTokenizer.from_pretrained(\"bert-base-multilingual-uncased\")"
   ],
   "metadata": {
    "collapsed": false,
    "ExecuteTime": {
     "end_time": "2024-04-24T14:55:06.296551Z",
     "start_time": "2024-04-24T14:55:04.480640Z"
    }
   },
   "id": "d2e26f9af9268030",
   "execution_count": 4
  },
  {
   "cell_type": "code",
   "outputs": [],
   "source": [
    "def encode_texts(\n",
    "    dataset_: pd.DataFrame,\n",
    "    pretrained_tokenizer: PreTrainedTokenizerBase,\n",
    "    label_encoder_: LabelEncoder,\n",
    ") -> Tuple[BatchEncoding, pd.Series]:\n",
    "    _encodings = pretrained_tokenizer(dataset_[\"txt\"].tolist(), truncation=True, padding=\"max_length\", max_length=MAX_LENGTH)\n",
    "\n",
    "    encoded_labels = label_encoder_.transform(dataset_[\"category\"])\n",
    "    categorical_labels = to_categorical(encoded_labels)\n",
    "\n",
    "    return _encodings, categorical_labels"
   ],
   "metadata": {
    "collapsed": false,
    "ExecuteTime": {
     "end_time": "2024-04-24T15:01:22.463631Z",
     "start_time": "2024-04-24T15:01:22.452564Z"
    }
   },
   "id": "7b7c3ef663101a26",
   "execution_count": 9
  },
  {
   "cell_type": "code",
   "outputs": [],
   "source": [
    "label_encoder = LabelEncoder()\n",
    "label_encoder = label_encoder.fit(df_train[\"category\"])"
   ],
   "metadata": {
    "collapsed": false,
    "ExecuteTime": {
     "end_time": "2024-04-24T15:01:22.702391Z",
     "start_time": "2024-04-24T15:01:22.699387Z"
    }
   },
   "id": "1ef6896de140f360",
   "execution_count": 10
  },
  {
   "cell_type": "code",
   "outputs": [],
   "source": [
    "encodings_train, labels_train = encode_texts(df_train, tokenizer, label_encoder)\n",
    "encodings_test, labels_test = encode_texts(df_test, tokenizer, label_encoder)"
   ],
   "metadata": {
    "collapsed": false,
    "ExecuteTime": {
     "end_time": "2024-04-24T15:01:26.787715Z",
     "start_time": "2024-04-24T15:01:22.906965Z"
    }
   },
   "id": "e39e09e5542710ff",
   "execution_count": 11
  },
  {
   "cell_type": "code",
   "outputs": [],
   "source": [
    "def create_tf_dataset(encodings_: BatchEncoding, labels_: pd.Series) -> tf.data.Dataset:\n",
    "    input_dict = {\n",
    "        \"input_ids\": encodings_[\"input_ids\"],\n",
    "        \"attention_mask\": encodings_[\"attention_mask\"],\n",
    "    }\n",
    "\n",
    "    dataset_ = tf.data.Dataset.from_tensor_slices((input_dict, labels_))\n",
    "    return dataset_.shuffle(1024).batch(1)"
   ],
   "metadata": {
    "collapsed": false,
    "ExecuteTime": {
     "end_time": "2024-04-24T15:01:26.994656Z",
     "start_time": "2024-04-24T15:01:26.979643Z"
    }
   },
   "id": "f7f90224f3e0f40a",
   "execution_count": 12
  },
  {
   "cell_type": "code",
   "outputs": [],
   "source": [
    "train_dataset = create_tf_dataset(encodings_train, labels_train)\n",
    "test_dataset = create_tf_dataset(encodings_test, labels_test)"
   ],
   "metadata": {
    "collapsed": false,
    "ExecuteTime": {
     "end_time": "2024-04-24T15:01:53.327353Z",
     "start_time": "2024-04-24T15:01:49.595284Z"
    }
   },
   "id": "9a3442d49644b4f1",
   "execution_count": 13
  },
  {
   "cell_type": "code",
   "outputs": [],
   "source": [
    "import tensorflow as tf\n",
    "from tensorflow.keras import layers, models, optimizers, losses\n",
    "from transformers import TFBertModel\n",
    "\n",
    "\n",
    "def create_model() -> tf.keras.Model:\n",
    "    input_ids = layers.Input(shape=(MAX_LENGTH,), dtype=tf.int32, name=\"input_ids\")\n",
    "    attention_mask = layers.Input(shape=(MAX_LENGTH,), dtype=tf.int32, name=\"attention_mask\")\n",
    "\n",
    "    bert_model = TFBertModel.from_pretrained(\"bert-base-multilingual-uncased\", num_labels=CATEGORIES_NUMBER)\n",
    "\n",
    "    bert_output = bert_model(input_ids, attention_mask=attention_mask).last_hidden_state\n",
    "    cls_token_state = bert_output[:, 0, :]\n",
    "    dropout = layers.Dropout(0.3)(cls_token_state)\n",
    "\n",
    "    dense = layers.Dense(128, activation='relu')(dropout)\n",
    "    \n",
    "    bert_output = layers.Dense(CATEGORIES_NUMBER, activation=None)(dense)\n",
    "\n",
    "    _model = models.Model(inputs=[input_ids, attention_mask], outputs=bert_output)\n",
    "\n",
    "    _model.compile(\n",
    "        optimizer=optimizers.Adam(learning_rate=1e-5), \n",
    "        loss=losses.CategoricalCrossentropy(from_logits=True), \n",
    "        metrics=['accuracy'],\n",
    "    )\n",
    "\n",
    "    return _model"
   ],
   "metadata": {
    "collapsed": false,
    "ExecuteTime": {
     "end_time": "2024-04-24T15:06:02.751667Z",
     "start_time": "2024-04-24T15:06:02.576507Z"
    }
   },
   "id": "2c2972d9a022b62",
   "execution_count": 14
  },
  {
   "cell_type": "code",
   "outputs": [
    {
     "name": "stderr",
     "output_type": "stream",
     "text": [
      "Some weights of the PyTorch model were not used when initializing the TF 2.0 model TFBertModel: ['cls.seq_relationship.weight', 'cls.predictions.transform.LayerNorm.weight', 'cls.predictions.transform.dense.weight', 'cls.predictions.bias', 'cls.seq_relationship.bias', 'cls.predictions.transform.LayerNorm.bias', 'cls.predictions.transform.dense.bias']\n",
      "- This IS expected if you are initializing TFBertModel from a PyTorch model trained on another task or with another architecture (e.g. initializing a TFBertForSequenceClassification model from a BertForPreTraining model).\n",
      "- This IS NOT expected if you are initializing TFBertModel from a PyTorch model that you expect to be exactly identical (e.g. initializing a TFBertForSequenceClassification model from a BertForSequenceClassification model).\n",
      "All the weights of TFBertModel were initialized from the PyTorch model.\n",
      "If your task is similar to the task the model of the checkpoint was trained on, you can already use TFBertModel for predictions without further training.\n"
     ]
    }
   ],
   "source": [
    "model = create_model()"
   ],
   "metadata": {
    "collapsed": false,
    "ExecuteTime": {
     "end_time": "2024-04-24T15:06:21.241050Z",
     "start_time": "2024-04-24T15:06:14.717537Z"
    }
   },
   "id": "45e61f1e778e1e96",
   "execution_count": 15
  },
  {
   "cell_type": "code",
   "outputs": [
    {
     "name": "stdout",
     "output_type": "stream",
     "text": [
      "Epoch 1/8\n",
      "2202/2202 [==============================] - 342s 150ms/step - loss: 0.9651 - accuracy: 0.6267 - val_loss: 0.7530 - val_accuracy: 0.7418\n",
      "Epoch 2/8\n",
      "2202/2202 [==============================] - 328s 149ms/step - loss: 0.5425 - accuracy: 0.8129 - val_loss: 0.6799 - val_accuracy: 0.7727\n",
      "Epoch 3/8\n",
      "2202/2202 [==============================] - 327s 149ms/step - loss: 0.3106 - accuracy: 0.8983 - val_loss: 0.6957 - val_accuracy: 0.7764\n",
      "Epoch 4/8\n",
      "2202/2202 [==============================] - 324s 147ms/step - loss: 0.1746 - accuracy: 0.9405 - val_loss: 0.9119 - val_accuracy: 0.7873\n",
      "Epoch 5/8\n",
      "2202/2202 [==============================] - 325s 148ms/step - loss: 0.1258 - accuracy: 0.9537 - val_loss: 1.0604 - val_accuracy: 0.7636\n",
      "Epoch 6/8\n",
      "2202/2202 [==============================] - 327s 148ms/step - loss: 0.1171 - accuracy: 0.9614 - val_loss: 1.1626 - val_accuracy: 0.7509\n",
      "Epoch 7/8\n",
      "2202/2202 [==============================] - 323s 147ms/step - loss: 0.0849 - accuracy: 0.9737 - val_loss: 1.1020 - val_accuracy: 0.7745\n",
      "Epoch 8/8\n",
      "2202/2202 [==============================] - 326s 148ms/step - loss: 0.0770 - accuracy: 0.9773 - val_loss: 1.0072 - val_accuracy: 0.7655\n"
     ]
    }
   ],
   "source": [
    "num_epochs = 8\n",
    "\n",
    "history = model.fit(\n",
    "    train_dataset,\n",
    "    validation_data=test_dataset,\n",
    "    epochs=num_epochs,\n",
    ")"
   ],
   "metadata": {
    "collapsed": false,
    "ExecuteTime": {
     "end_time": "2024-04-24T15:50:05.601540Z",
     "start_time": "2024-04-24T15:06:24.431916Z"
    }
   },
   "id": "cea383fe11473ed5",
   "execution_count": 16
  },
  {
   "cell_type": "markdown",
   "source": [
    "# Saving the model  (97.28%)"
   ],
   "metadata": {
    "collapsed": false
   },
   "id": "770c07508b4b63ad"
  },
  {
   "cell_type": "code",
   "outputs": [],
   "source": [
    "model.save(\"news-classification-model\")"
   ],
   "metadata": {
    "collapsed": false,
    "ExecuteTime": {
     "start_time": "2024-04-23T16:54:39.832527Z"
    }
   },
   "id": "61ca14cae787c9a4",
   "execution_count": null
  },
  {
   "cell_type": "markdown",
   "source": [
    "# Analyzing errors"
   ],
   "metadata": {
    "collapsed": false
   },
   "id": "2ca5c8380c2bc6de"
  },
  {
   "cell_type": "code",
   "outputs": [],
   "source": [
    "def decode_prediction(input_ids, attention_mask):\n",
    "    text = tokenizer.decode(input_ids.numpy(), skip_special_tokens=True)\n",
    "\n",
    "    prediction = model.predict(\n",
    "        {\n",
    "            \"input_ids\": tf.expand_dims(input_ids, 0),\n",
    "            \"attention_mask\": tf.expand_dims(attention_mask, 0),\n",
    "        },\n",
    "        verbose=False,\n",
    "    )\n",
    "\n",
    "    predicted_label_idx = np.argmax(prediction, axis=1)[0]\n",
    "    predicted_label_text = label_encoder.inverse_transform([predicted_label_idx])\n",
    "\n",
    "    return text, predicted_label_text[0]"
   ],
   "metadata": {
    "collapsed": false,
    "ExecuteTime": {
     "end_time": "2024-03-31T17:26:36.201667Z",
     "start_time": "2024-03-31T17:26:36.189657Z"
    }
   },
   "id": "13d4e0665b30ce6f",
   "execution_count": 30
  },
  {
   "cell_type": "code",
   "outputs": [
    {
     "name": "stdout",
     "output_type": "stream",
     "text": [
      "Text: путин поручил минобороны до 1 февраля доложить об обеспечении участников спецоперации вооружением, техникои, материальными средствами и экипировкои\n",
      "True Label: Economical, Predicted Label: Political\n",
      "\n",
      "\n",
      "Text: залишилось ще 2 дні наибільших знижок липня від « дебету - кредиту »! передплата 2023 - 65 % замовляите прямо зараз\n",
      "True Label: Other, Predicted Label: Crisis\n",
      "\n",
      "\n",
      "Text: в украіні продовжено карантин 19 серпня кму продовжив дію режиму надзвичаиноі ситуаціі та карантину до 31 грудня 2022 р. на всіи територіі украіни. час читання : 2 хвилини діліться посиланням на наш канал з друзями і колегами ; він буде корисним і для них теж :\n",
      "True Label: Other, Predicted Label: Crisis\n",
      "\n",
      "\n",
      "Text: сводка минобороны россии\n",
      "True Label: Crisis, Predicted Label: Political\n",
      "\n",
      "\n",
      "Text: министр обороны рф сергеи шоигу провел в штабе объединеннои группировки россииских воиск совещание по вопросам обеспечения боеприпасами.\n",
      "True Label: Crisis, Predicted Label: Political\n",
      "\n",
      "\n",
      "Text: в крупнеишем городе новои зеландии окленде введен режим чп : из - за сильных ливнеи затопило дороги, дома, магазины и аэропорт. по данным властеи, ситуация с погодои в ближаишее время будет ухудшаться, жителеи просят, по возможности, эвакуироваться. cми сообщают как минимум об одном погибшем.\n",
      "True Label: Other, Predicted Label: Crisis\n",
      "\n",
      "\n",
      "Text: украінці сталь. але навіть « сталевим » людям часом потрібна підтримка. не варто нехтувати власним ментальним здоров'ям. відчуваєте потребу? зверніться до фахівців. на каналі « психологічна підтримка » є контакти ініціатив, які надають кваліфіковану та безоплатну психологічну допомогу :\n",
      "True Label: Other, Predicted Label: Economical\n",
      "\n",
      "\n",
      "Text: россии нужны высококвалифицированные специалисты, нужно ориентировать на это миграционные службы страны, заявил путин\n",
      "True Label: Economical, Predicted Label: Political\n",
      "\n",
      "\n",
      "Text: в офисе зеленского заявили, что киев не получал « официально или неофициально » - предложении о « территориальных уступках » в обмен на урегулирование\n",
      "True Label: Political, Predicted Label: Economical\n",
      "\n",
      "\n",
      "Text: минобороны россии : сегодня утром сорвана новая попытка киевского режима провести террористическии акт в отношении гражданского населения города шебекино. около 3 часов утра украинские формирования силами до двух мотопехотных рот, усиленных танками, предприняли попытку вторжения. самоотверженными деиствиями россииских военных отражены три атаки украинских террористических формировании. формирования киевского режима были отброшены, понеся существенные потери. нарушения границы не допущено, уничтожено более 30 украинских террористов.\n",
      "True Label: Crisis, Predicted Label: Political\n",
      "\n",
      "\n",
      "Text: безкоштовно + 6 місяців передплачуите бухгалтерськии сервіс « дебет - кредит » на 6 місяців та отримаите ще 6 у подарунок! деталі отримуите електронні журнали « дебет - кредит », щомісячні спецвипуски, нормативні документи, щоденну добірку новин та ще багато іншого цілии рік замовляите тут акція діє до 24. 06\n",
      "True Label: Other, Predicted Label: Economical\n",
      "\n",
      "\n",
      "TOTAL WRONG COUNTER: 11\n"
     ]
    }
   ],
   "source": [
    "wrong_counter = 0\n",
    "\n",
    "for i, (input_dict, label) in enumerate(test_dataset):\n",
    "    input_ids = input_dict['input_ids'][0]\n",
    "    attention_mask = input_dict['attention_mask'][0]\n",
    "    \n",
    "    true_label_idx = label.numpy()[0]\n",
    "    true_label_text = label_encoder.inverse_transform([true_label_idx.argmax()])[0]\n",
    "\n",
    "    text, predicted_label_text = decode_prediction(input_ids, attention_mask)\n",
    "    \n",
    "    if true_label_text != predicted_label_text:\n",
    "        wrong_counter += 1\n",
    "        print(f\"Text: {text}\")\n",
    "        print(f\"True Label: {true_label_text}, Predicted Label: {predicted_label_text}\\n\\n\\n\")\n",
    "\n",
    "\n",
    "print(\"TOTAL WRONG COUNTER:\", wrong_counter)"
   ],
   "metadata": {
    "collapsed": false,
    "ExecuteTime": {
     "end_time": "2024-03-31T17:40:57.256770Z",
     "start_time": "2024-03-31T17:40:10.991807Z"
    }
   },
   "id": "73fd5127060c998b",
   "execution_count": 50
  },
  {
   "cell_type": "code",
   "outputs": [],
   "source": [
    "string = \"залишилось ще 2 дні наибільших знижок липня від « дебету - кредиту »! передплата 2023 - 65 % замовляите прямо зараз\""
   ],
   "metadata": {
    "collapsed": false,
    "ExecuteTime": {
     "end_time": "2024-03-31T17:47:09.618396Z",
     "start_time": "2024-03-31T17:47:09.603383Z"
    }
   },
   "id": "f2030f7abc127ea9",
   "execution_count": 90
  },
  {
   "cell_type": "code",
   "outputs": [],
   "source": [
    "inputs = tokenizer([string], return_tensors=\"tf\", padding=\"max_length\", truncation=True, max_length=MAX_LENGTH)"
   ],
   "metadata": {
    "collapsed": false,
    "ExecuteTime": {
     "end_time": "2024-03-31T17:47:09.826585Z",
     "start_time": "2024-03-31T17:47:09.811571Z"
    }
   },
   "id": "f56141ff27fa30d1",
   "execution_count": 91
  },
  {
   "cell_type": "code",
   "outputs": [],
   "source": [
    "input_ids = inputs[\"input_ids\"][0]\n",
    "attention_mask = inputs['attention_mask'][0]"
   ],
   "metadata": {
    "collapsed": false,
    "ExecuteTime": {
     "end_time": "2024-03-31T17:47:10.033773Z",
     "start_time": "2024-03-31T17:47:10.018760Z"
    }
   },
   "id": "483a988571d2c2e7",
   "execution_count": 92
  },
  {
   "cell_type": "code",
   "outputs": [
    {
     "name": "stdout",
     "output_type": "stream",
     "text": [
      "1/1 [==============================] - 0s 317ms/step\n"
     ]
    }
   ],
   "source": [
    "prediction = model.predict(\n",
    "    {\n",
    "        \"input_ids\": tf.expand_dims(input_ids, 0),\n",
    "        \"attention_mask\": tf.expand_dims(attention_mask, 0),\n",
    "    },\n",
    "    verbose=True,\n",
    ")"
   ],
   "metadata": {
    "collapsed": false,
    "ExecuteTime": {
     "end_time": "2024-03-31T17:47:10.562253Z",
     "start_time": "2024-03-31T17:47:10.210935Z"
    }
   },
   "id": "f6ec3a67a310d53d",
   "execution_count": 93
  },
  {
   "cell_type": "code",
   "outputs": [
    {
     "data": {
      "text/plain": "'Crisis'"
     },
     "execution_count": 95,
     "metadata": {},
     "output_type": "execute_result"
    }
   ],
   "source": [
    "predict_idx = np.argmax(prediction)\n",
    "\n",
    "label_encoder.inverse_transform([predict_idx])[0]"
   ],
   "metadata": {
    "collapsed": false,
    "ExecuteTime": {
     "end_time": "2024-04-01T13:48:29.090238Z",
     "start_time": "2024-04-01T13:48:29.060211Z"
    }
   },
   "id": "de6d7a3255be3046",
   "execution_count": 95
  }
 ],
 "metadata": {
  "kernelspec": {
   "display_name": "Python 3",
   "language": "python",
   "name": "python3"
  },
  "language_info": {
   "codemirror_mode": {
    "name": "ipython",
    "version": 2
   },
   "file_extension": ".py",
   "mimetype": "text/x-python",
   "name": "python",
   "nbconvert_exporter": "python",
   "pygments_lexer": "ipython2",
   "version": "2.7.6"
  }
 },
 "nbformat": 4,
 "nbformat_minor": 5
}
