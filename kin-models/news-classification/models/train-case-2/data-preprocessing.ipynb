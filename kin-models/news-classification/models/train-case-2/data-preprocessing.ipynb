{
 "cells": [
  {
   "cell_type": "code",
   "outputs": [
    {
     "ename": "ParserError",
     "evalue": "Error tokenizing data. C error: Expected 4 fields in line 5, saw 9\n",
     "output_type": "error",
     "traceback": [
      "\u001B[1;31m---------------------------------------------------------------------------\u001B[0m",
      "\u001B[1;31mParserError\u001B[0m                               Traceback (most recent call last)",
      "Cell \u001B[1;32mIn[1], line 3\u001B[0m\n\u001B[0;32m      1\u001B[0m \u001B[38;5;28;01mimport\u001B[39;00m \u001B[38;5;21;01mpandas\u001B[39;00m \u001B[38;5;28;01mas\u001B[39;00m \u001B[38;5;21;01mpd\u001B[39;00m\n\u001B[1;32m----> 3\u001B[0m df \u001B[38;5;241m=\u001B[39m \u001B[43mpd\u001B[49m\u001B[38;5;241;43m.\u001B[39;49m\u001B[43mread_csv\u001B[49m\u001B[43m(\u001B[49m\u001B[38;5;124;43m\"\u001B[39;49m\u001B[38;5;124;43m./working-with-data/raw-data/verified/train-dataset.csv\u001B[39;49m\u001B[38;5;124;43m\"\u001B[39;49m\u001B[43m)\u001B[49m\n\u001B[0;32m      6\u001B[0m df\u001B[38;5;241m.\u001B[39mhead()\n",
      "File \u001B[1;32m~\\miniconda3\\envs\\tf\\lib\\site-packages\\pandas\\io\\parsers\\readers.py:912\u001B[0m, in \u001B[0;36mread_csv\u001B[1;34m(filepath_or_buffer, sep, delimiter, header, names, index_col, usecols, dtype, engine, converters, true_values, false_values, skipinitialspace, skiprows, skipfooter, nrows, na_values, keep_default_na, na_filter, verbose, skip_blank_lines, parse_dates, infer_datetime_format, keep_date_col, date_parser, date_format, dayfirst, cache_dates, iterator, chunksize, compression, thousands, decimal, lineterminator, quotechar, quoting, doublequote, escapechar, comment, encoding, encoding_errors, dialect, on_bad_lines, delim_whitespace, low_memory, memory_map, float_precision, storage_options, dtype_backend)\u001B[0m\n\u001B[0;32m    899\u001B[0m kwds_defaults \u001B[38;5;241m=\u001B[39m _refine_defaults_read(\n\u001B[0;32m    900\u001B[0m     dialect,\n\u001B[0;32m    901\u001B[0m     delimiter,\n\u001B[1;32m   (...)\u001B[0m\n\u001B[0;32m    908\u001B[0m     dtype_backend\u001B[38;5;241m=\u001B[39mdtype_backend,\n\u001B[0;32m    909\u001B[0m )\n\u001B[0;32m    910\u001B[0m kwds\u001B[38;5;241m.\u001B[39mupdate(kwds_defaults)\n\u001B[1;32m--> 912\u001B[0m \u001B[38;5;28;01mreturn\u001B[39;00m \u001B[43m_read\u001B[49m\u001B[43m(\u001B[49m\u001B[43mfilepath_or_buffer\u001B[49m\u001B[43m,\u001B[49m\u001B[43m \u001B[49m\u001B[43mkwds\u001B[49m\u001B[43m)\u001B[49m\n",
      "File \u001B[1;32m~\\miniconda3\\envs\\tf\\lib\\site-packages\\pandas\\io\\parsers\\readers.py:583\u001B[0m, in \u001B[0;36m_read\u001B[1;34m(filepath_or_buffer, kwds)\u001B[0m\n\u001B[0;32m    580\u001B[0m     \u001B[38;5;28;01mreturn\u001B[39;00m parser\n\u001B[0;32m    582\u001B[0m \u001B[38;5;28;01mwith\u001B[39;00m parser:\n\u001B[1;32m--> 583\u001B[0m     \u001B[38;5;28;01mreturn\u001B[39;00m \u001B[43mparser\u001B[49m\u001B[38;5;241;43m.\u001B[39;49m\u001B[43mread\u001B[49m\u001B[43m(\u001B[49m\u001B[43mnrows\u001B[49m\u001B[43m)\u001B[49m\n",
      "File \u001B[1;32m~\\miniconda3\\envs\\tf\\lib\\site-packages\\pandas\\io\\parsers\\readers.py:1704\u001B[0m, in \u001B[0;36mTextFileReader.read\u001B[1;34m(self, nrows)\u001B[0m\n\u001B[0;32m   1697\u001B[0m nrows \u001B[38;5;241m=\u001B[39m validate_integer(\u001B[38;5;124m\"\u001B[39m\u001B[38;5;124mnrows\u001B[39m\u001B[38;5;124m\"\u001B[39m, nrows)\n\u001B[0;32m   1698\u001B[0m \u001B[38;5;28;01mtry\u001B[39;00m:\n\u001B[0;32m   1699\u001B[0m     \u001B[38;5;66;03m# error: \"ParserBase\" has no attribute \"read\"\u001B[39;00m\n\u001B[0;32m   1700\u001B[0m     (\n\u001B[0;32m   1701\u001B[0m         index,\n\u001B[0;32m   1702\u001B[0m         columns,\n\u001B[0;32m   1703\u001B[0m         col_dict,\n\u001B[1;32m-> 1704\u001B[0m     ) \u001B[38;5;241m=\u001B[39m \u001B[38;5;28;43mself\u001B[39;49m\u001B[38;5;241;43m.\u001B[39;49m\u001B[43m_engine\u001B[49m\u001B[38;5;241;43m.\u001B[39;49m\u001B[43mread\u001B[49m\u001B[43m(\u001B[49m\u001B[43m  \u001B[49m\u001B[38;5;66;43;03m# type: ignore[attr-defined]\u001B[39;49;00m\n\u001B[0;32m   1705\u001B[0m \u001B[43m        \u001B[49m\u001B[43mnrows\u001B[49m\n\u001B[0;32m   1706\u001B[0m \u001B[43m    \u001B[49m\u001B[43m)\u001B[49m\n\u001B[0;32m   1707\u001B[0m \u001B[38;5;28;01mexcept\u001B[39;00m \u001B[38;5;167;01mException\u001B[39;00m:\n\u001B[0;32m   1708\u001B[0m     \u001B[38;5;28mself\u001B[39m\u001B[38;5;241m.\u001B[39mclose()\n",
      "File \u001B[1;32m~\\miniconda3\\envs\\tf\\lib\\site-packages\\pandas\\io\\parsers\\c_parser_wrapper.py:234\u001B[0m, in \u001B[0;36mCParserWrapper.read\u001B[1;34m(self, nrows)\u001B[0m\n\u001B[0;32m    232\u001B[0m \u001B[38;5;28;01mtry\u001B[39;00m:\n\u001B[0;32m    233\u001B[0m     \u001B[38;5;28;01mif\u001B[39;00m \u001B[38;5;28mself\u001B[39m\u001B[38;5;241m.\u001B[39mlow_memory:\n\u001B[1;32m--> 234\u001B[0m         chunks \u001B[38;5;241m=\u001B[39m \u001B[38;5;28;43mself\u001B[39;49m\u001B[38;5;241;43m.\u001B[39;49m\u001B[43m_reader\u001B[49m\u001B[38;5;241;43m.\u001B[39;49m\u001B[43mread_low_memory\u001B[49m\u001B[43m(\u001B[49m\u001B[43mnrows\u001B[49m\u001B[43m)\u001B[49m\n\u001B[0;32m    235\u001B[0m         \u001B[38;5;66;03m# destructive to chunks\u001B[39;00m\n\u001B[0;32m    236\u001B[0m         data \u001B[38;5;241m=\u001B[39m _concatenate_chunks(chunks)\n",
      "File \u001B[1;32m~\\miniconda3\\envs\\tf\\lib\\site-packages\\pandas\\_libs\\parsers.pyx:814\u001B[0m, in \u001B[0;36mpandas._libs.parsers.TextReader.read_low_memory\u001B[1;34m()\u001B[0m\n",
      "File \u001B[1;32m~\\miniconda3\\envs\\tf\\lib\\site-packages\\pandas\\_libs\\parsers.pyx:875\u001B[0m, in \u001B[0;36mpandas._libs.parsers.TextReader._read_rows\u001B[1;34m()\u001B[0m\n",
      "File \u001B[1;32m~\\miniconda3\\envs\\tf\\lib\\site-packages\\pandas\\_libs\\parsers.pyx:850\u001B[0m, in \u001B[0;36mpandas._libs.parsers.TextReader._tokenize_rows\u001B[1;34m()\u001B[0m\n",
      "File \u001B[1;32m~\\miniconda3\\envs\\tf\\lib\\site-packages\\pandas\\_libs\\parsers.pyx:861\u001B[0m, in \u001B[0;36mpandas._libs.parsers.TextReader._check_tokenize_status\u001B[1;34m()\u001B[0m\n",
      "File \u001B[1;32m~\\miniconda3\\envs\\tf\\lib\\site-packages\\pandas\\_libs\\parsers.pyx:2029\u001B[0m, in \u001B[0;36mpandas._libs.parsers.raise_parser_error\u001B[1;34m()\u001B[0m\n",
      "\u001B[1;31mParserError\u001B[0m: Error tokenizing data. C error: Expected 4 fields in line 5, saw 9\n"
     ]
    }
   ],
   "source": [
    "import pandas as pd\n",
    "\n",
    "df = pd.read_csv(\"./working-with-data/raw-data/verified/train-dataset.csv\")\n",
    "\n",
    "\n",
    "df.head()"
   ],
   "metadata": {
    "collapsed": false,
    "ExecuteTime": {
     "end_time": "2024-04-28T10:51:51.512910Z",
     "start_time": "2024-04-28T10:51:50.776771Z"
    }
   },
   "id": "7a7bd9ccaf0ee9ec",
   "execution_count": 1
  },
  {
   "cell_type": "code",
   "execution_count": 560,
   "id": "initial_id",
   "metadata": {
    "collapsed": true,
    "ExecuteTime": {
     "end_time": "2024-03-26T13:11:09.521618Z",
     "start_time": "2024-03-26T13:11:09.508570Z"
    }
   },
   "outputs": [],
   "source": [
    "import re\n",
    "import os\n",
    "\n",
    "import pandas as pd"
   ]
  },
  {
   "cell_type": "code",
   "outputs": [],
   "source": [
    "directory_path = '../../data/training-data/train-case-2/labeled/'\n",
    "\n",
    "dataframes = []\n",
    "\n",
    "for filename in os.listdir(directory_path):\n",
    "    if filename.endswith('.csv'):\n",
    "        df = pd.read_csv(os.path.join(directory_path, filename))\n",
    "        dataframes.append(df)\n",
    "\n",
    "combined_df = pd.concat(dataframes, ignore_index=True)"
   ],
   "metadata": {
    "collapsed": false,
    "ExecuteTime": {
     "end_time": "2024-03-26T13:11:10.196282Z",
     "start_time": "2024-03-26T13:11:10.021161Z"
    }
   },
   "id": "e7bf031d2dcdbb8f",
   "execution_count": 561
  },
  {
   "cell_type": "code",
   "outputs": [],
   "source": [
    "df = combined_df"
   ],
   "metadata": {
    "collapsed": false,
    "ExecuteTime": {
     "end_time": "2024-03-26T13:11:10.211796Z",
     "start_time": "2024-03-26T13:11:10.205278Z"
    }
   },
   "id": "838e0f6d2c0d8685",
   "execution_count": 562
  },
  {
   "cell_type": "code",
   "outputs": [],
   "source": [
    "df.columns = [\"channel\", \"txt\", \"date\", \"category\"]"
   ],
   "metadata": {
    "collapsed": false,
    "ExecuteTime": {
     "end_time": "2024-03-26T13:11:10.227829Z",
     "start_time": "2024-03-26T13:11:10.221827Z"
    }
   },
   "id": "de0c465722d271ee",
   "execution_count": 563
  },
  {
   "cell_type": "code",
   "outputs": [],
   "source": [
    "df = df.dropna().copy()"
   ],
   "metadata": {
    "collapsed": false,
    "ExecuteTime": {
     "end_time": "2024-03-26T13:11:10.291386Z",
     "start_time": "2024-03-26T13:11:10.272383Z"
    }
   },
   "id": "96bbff5b8164b7d3",
   "execution_count": 564
  },
  {
   "cell_type": "code",
   "outputs": [
    {
     "data": {
      "text/plain": "                              channel  \\\n0  Всевидящее ОКО 🇺🇦 | Новини Україна   \n1  Всевидящее ОКО 🇺🇦 | Новини Україна   \n2  Всевидящее ОКО 🇺🇦 | Новини Україна   \n3  Всевидящее ОКО 🇺🇦 | Новини Україна   \n4  Всевидящее ОКО 🇺🇦 | Новини Україна   \n\n                                                 txt        date    category  \n0  **Сегодня отмечается международная неделя Клоу...  2023-08-01       Other  \n1  **Бойцы ВС РФ прямо сейчас отражают атаку бесп...  2023-08-04      Crisis  \n2  Історія з офісами телефонних шахраїв заграла я...  2023-08-09  Corruption  \n3  **Самый популярный блогер в мире MrBeast выпус...  2023-08-19   Political  \n4  **🔥**** Точно в цель: впечатляющая эффективнос...  2023-08-26      Crisis  ",
      "text/html": "<div>\n<style scoped>\n    .dataframe tbody tr th:only-of-type {\n        vertical-align: middle;\n    }\n\n    .dataframe tbody tr th {\n        vertical-align: top;\n    }\n\n    .dataframe thead th {\n        text-align: right;\n    }\n</style>\n<table border=\"1\" class=\"dataframe\">\n  <thead>\n    <tr style=\"text-align: right;\">\n      <th></th>\n      <th>channel</th>\n      <th>txt</th>\n      <th>date</th>\n      <th>category</th>\n    </tr>\n  </thead>\n  <tbody>\n    <tr>\n      <th>0</th>\n      <td>Всевидящее ОКО 🇺🇦 | Новини Україна</td>\n      <td>**Сегодня отмечается международная неделя Клоу...</td>\n      <td>2023-08-01</td>\n      <td>Other</td>\n    </tr>\n    <tr>\n      <th>1</th>\n      <td>Всевидящее ОКО 🇺🇦 | Новини Україна</td>\n      <td>**Бойцы ВС РФ прямо сейчас отражают атаку бесп...</td>\n      <td>2023-08-04</td>\n      <td>Crisis</td>\n    </tr>\n    <tr>\n      <th>2</th>\n      <td>Всевидящее ОКО 🇺🇦 | Новини Україна</td>\n      <td>Історія з офісами телефонних шахраїв заграла я...</td>\n      <td>2023-08-09</td>\n      <td>Corruption</td>\n    </tr>\n    <tr>\n      <th>3</th>\n      <td>Всевидящее ОКО 🇺🇦 | Новини Україна</td>\n      <td>**Самый популярный блогер в мире MrBeast выпус...</td>\n      <td>2023-08-19</td>\n      <td>Political</td>\n    </tr>\n    <tr>\n      <th>4</th>\n      <td>Всевидящее ОКО 🇺🇦 | Новини Україна</td>\n      <td>**🔥**** Точно в цель: впечатляющая эффективнос...</td>\n      <td>2023-08-26</td>\n      <td>Crisis</td>\n    </tr>\n  </tbody>\n</table>\n</div>"
     },
     "execution_count": 565,
     "metadata": {},
     "output_type": "execute_result"
    }
   ],
   "source": [
    "df.head()"
   ],
   "metadata": {
    "collapsed": false,
    "ExecuteTime": {
     "end_time": "2024-03-26T13:11:10.458624Z",
     "start_time": "2024-03-26T13:11:10.422620Z"
    }
   },
   "id": "2efb507cacc175a",
   "execution_count": 565
  },
  {
   "cell_type": "code",
   "outputs": [],
   "source": [
    "df[\"category\"] = df[\"category\"].replace(\"Shelling\", \"Crisis\")"
   ],
   "metadata": {
    "collapsed": false,
    "ExecuteTime": {
     "end_time": "2024-03-26T13:11:10.655535Z",
     "start_time": "2024-03-26T13:11:10.641533Z"
    }
   },
   "id": "5754888430ee8283",
   "execution_count": 566
  },
  {
   "cell_type": "code",
   "outputs": [
    {
     "data": {
      "text/plain": "(0, 4)"
     },
     "execution_count": 567,
     "metadata": {},
     "output_type": "execute_result"
    }
   ],
   "source": [
    "df[df[\"category\"] == \"Shelling\"].shape"
   ],
   "metadata": {
    "collapsed": false,
    "ExecuteTime": {
     "end_time": "2024-03-26T13:11:10.703092Z",
     "start_time": "2024-03-26T13:11:10.679046Z"
    }
   },
   "id": "9ab2e2cab46a0b76",
   "execution_count": 567
  },
  {
   "cell_type": "code",
   "outputs": [],
   "source": [
    "df['txt'] = df['txt'].replace('\\*\\*|__|~~', '', regex=True)\n",
    "df['txt'] = df['txt'].replace(r'[\"“”«»„\"]\\s*[\"“”«»„\"]', '', regex=True)\n",
    "df['txt'] = df['txt'].replace('\"\"', '')"
   ],
   "metadata": {
    "collapsed": false,
    "ExecuteTime": {
     "end_time": "2024-03-26T13:11:10.862784Z",
     "start_time": "2024-03-26T13:11:10.785781Z"
    }
   },
   "id": "b2b38e0738f2313d",
   "execution_count": 568
  },
  {
   "cell_type": "code",
   "outputs": [],
   "source": [
    "df['txt'] = df['txt'].replace(\n",
    "    '(http|ftp|https):\\/\\/([\\w_-]+(?:(?:\\.[\\w_-]+)+))([\\w.,@?^=%&:\\/~+#-]*[\\w@?^=%&\\/~+#-])',\n",
    "    ' ',\n",
    "    regex=True,\n",
    ")"
   ],
   "metadata": {
    "collapsed": false,
    "ExecuteTime": {
     "end_time": "2024-03-26T13:11:11.000901Z",
     "start_time": "2024-03-26T13:11:10.929818Z"
    }
   },
   "id": "cfd3975fc9fe1751",
   "execution_count": 569
  },
  {
   "cell_type": "code",
   "outputs": [],
   "source": [
    "df['txt'] = df['txt'].replace(r'\\n|\\r|\\t', ' ', regex=True)"
   ],
   "metadata": {
    "collapsed": false,
    "ExecuteTime": {
     "end_time": "2024-03-26T13:11:11.114151Z",
     "start_time": "2024-03-26T13:11:11.052988Z"
    }
   },
   "id": "97a63d6304854bda",
   "execution_count": 570
  },
  {
   "cell_type": "code",
   "outputs": [],
   "source": [
    "df['txt'] = df['txt'].replace(r'\\[|\\]', '', regex=True)"
   ],
   "metadata": {
    "collapsed": false,
    "ExecuteTime": {
     "end_time": "2024-03-26T13:11:11.188793Z",
     "start_time": "2024-03-26T13:11:11.130715Z"
    }
   },
   "id": "3cc0bbc657fefc15",
   "execution_count": 571
  },
  {
   "cell_type": "code",
   "outputs": [],
   "source": [
    "words_to_remove = [\n",
    "    \"Покупаем контент\", \"ПОДПИСАТЬСЯ\", \"𝔼ℂ𝕆ℕ𝕆𝕄𝕀𝕂𝔸\", \"Подпишись — RT на русском\", \"Подпишись на канал «Специально для RT»\",\n",
    "    \"підписатися\", \"Подписаться на канал УНИАН\", \"Купуємо контент\"\n",
    "]"
   ],
   "metadata": {
    "collapsed": false,
    "ExecuteTime": {
     "end_time": "2024-03-26T13:11:11.220793Z",
     "start_time": "2024-03-26T13:11:11.204794Z"
    }
   },
   "id": "da9f1ee74a44ef08",
   "execution_count": 572
  },
  {
   "cell_type": "code",
   "outputs": [],
   "source": [
    "for word in words_to_remove:\n",
    "    df['txt'] = df['txt'].str.replace(word, '')"
   ],
   "metadata": {
    "collapsed": false,
    "ExecuteTime": {
     "end_time": "2024-03-26T13:11:11.314990Z",
     "start_time": "2024-03-26T13:11:11.225836Z"
    }
   },
   "id": "5210a03f5645e4cb",
   "execution_count": 573
  },
  {
   "cell_type": "code",
   "outputs": [],
   "source": [
    "df[\"txt\"] = df['txt'].replace(r'\\(\\s*\\)', '', regex=True)"
   ],
   "metadata": {
    "collapsed": false,
    "ExecuteTime": {
     "end_time": "2024-03-26T13:11:11.394031Z",
     "start_time": "2024-03-26T13:11:11.319991Z"
    }
   },
   "id": "a42b7b4453484d0b",
   "execution_count": 574
  },
  {
   "cell_type": "code",
   "outputs": [],
   "source": [
    "df['txt'] = df['txt'].replace(r'\\s+', ' ', regex=True)\n",
    "df['txt'] = df['txt'].str.strip()\n",
    "\n",
    "df['txt'] = df['txt'].str.lower()"
   ],
   "metadata": {
    "collapsed": false,
    "ExecuteTime": {
     "end_time": "2024-03-26T13:11:11.694828Z",
     "start_time": "2024-03-26T13:11:11.399028Z"
    }
   },
   "id": "4ce089d0d215f5c",
   "execution_count": 575
  },
  {
   "cell_type": "code",
   "outputs": [],
   "source": [
    "def remove_emojis(string):\n",
    "    emoj = re.compile(\"[\"\n",
    "        u\"\\U0001F600-\\U0001F64F\"  # emoticons\n",
    "        u\"\\U0001F300-\\U0001F5FF\"  # symbols & pictographs\n",
    "        u\"\\U0001F680-\\U0001F6FF\"  # transport & map symbols\n",
    "        u\"\\U0001F1E0-\\U0001F1FF\"  # flags (iOS)\n",
    "        u\"\\U00002500-\\U00002BEF\"  # chinese char\n",
    "        u\"\\U00002702-\\U000027B0\"\n",
    "        u\"\\U000024C2-\\U0001F251\"\n",
    "        u\"\\U0001f926-\\U0001f937\"\n",
    "        u\"\\U00010000-\\U0010ffff\"\n",
    "        u\"\\u2640-\\u2642\" \n",
    "        u\"\\u2600-\\u2B55\"\n",
    "        u\"\\u200d\"\n",
    "        u\"\\u23cf\"\n",
    "        u\"\\u23e9\"\n",
    "        u\"\\u231a\"\n",
    "        u\"\\ufe0f\"  # dingbats\n",
    "        u\"\\u3030\"\n",
    "                      \"]+\", re.UNICODE)\n",
    "    return re.sub(emoj, '', string)"
   ],
   "metadata": {
    "collapsed": false,
    "ExecuteTime": {
     "end_time": "2024-03-26T13:11:11.885115Z",
     "start_time": "2024-03-26T13:11:11.864594Z"
    }
   },
   "id": "c7de663a03c30c51",
   "execution_count": 576
  },
  {
   "cell_type": "code",
   "outputs": [],
   "source": [
    "df['txt'] = df['txt'].apply(remove_emojis)"
   ],
   "metadata": {
    "collapsed": false,
    "ExecuteTime": {
     "end_time": "2024-03-26T13:11:12.543498Z",
     "start_time": "2024-03-26T13:11:12.422884Z"
    }
   },
   "id": "49658d26b707ec6b",
   "execution_count": 577
  },
  {
   "cell_type": "code",
   "outputs": [],
   "source": [
    "df['txt'] = df['txt'].str.replace('\"\"', '')"
   ],
   "metadata": {
    "collapsed": false,
    "ExecuteTime": {
     "end_time": "2024-03-26T13:11:13.394460Z",
     "start_time": "2024-03-26T13:11:13.380410Z"
    }
   },
   "id": "a709cec1f2e39c24",
   "execution_count": 578
  },
  {
   "cell_type": "code",
   "outputs": [],
   "source": [
    "df.to_csv(\"../../data/training-data/train-case-2/final-preprocessed-dataset.csv\", index=False)"
   ],
   "metadata": {
    "collapsed": false,
    "ExecuteTime": {
     "end_time": "2024-03-26T13:11:13.645453Z",
     "start_time": "2024-03-26T13:11:13.525844Z"
    }
   },
   "id": "fdbf4945748a0a47",
   "execution_count": 579
  }
 ],
 "metadata": {
  "kernelspec": {
   "display_name": "Python 3",
   "language": "python",
   "name": "python3"
  },
  "language_info": {
   "codemirror_mode": {
    "name": "ipython",
    "version": 2
   },
   "file_extension": ".py",
   "mimetype": "text/x-python",
   "name": "python",
   "nbconvert_exporter": "python",
   "pygments_lexer": "ipython2",
   "version": "2.7.6"
  }
 },
 "nbformat": 4,
 "nbformat_minor": 5
}
