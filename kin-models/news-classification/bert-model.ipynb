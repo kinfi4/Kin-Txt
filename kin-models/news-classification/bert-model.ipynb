{
 "cells": [
  {
   "cell_type": "code",
   "execution_count": 29,
   "metadata": {
    "collapsed": true,
    "ExecuteTime": {
     "end_time": "2023-07-12T05:36:03.613738341Z",
     "start_time": "2023-07-12T05:36:03.608962063Z"
    }
   },
   "outputs": [],
   "source": [
    "import keras\n",
    "import pandas as pd\n",
    "import tensorflow as tf\n",
    "from keras import models, layers, optimizers, losses, metrics\n",
    "from keras.utils import to_categorical\n",
    "from sklearn.preprocessing import LabelEncoder\n",
    "from transformers import BertTokenizer, TFBertForSequenceClassification, BatchEncoding, PreTrainedTokenizerBase\n",
    "\n",
    "tf.get_logger().setLevel('ERROR')"
   ]
  },
  {
   "cell_type": "code",
   "execution_count": 47,
   "outputs": [
    {
     "name": "stdout",
     "output_type": "stream",
     "text": [
      "DATASET SHAPE BEFORE DROPPING NAN: (2861, 5)\n",
      "DATASET SHAPE AFTER DROPPING NAN: (2858, 5)\n"
     ]
    }
   ],
   "source": [
    "df = pd.read_csv(\"./data/training-data/news-for-training.csv\", header=None)\n",
    "df.columns = [\"channel_name\", \"text\", \"date\", \"label\", \"sent\"]\n",
    "\n",
    "print(\"DATASET SHAPE BEFORE DROPPING NAN:\", df.shape)\n",
    "df = df.dropna()\n",
    "print(\"DATASET SHAPE AFTER DROPPING NAN:\", df.shape)"
   ],
   "metadata": {
    "collapsed": false,
    "ExecuteTime": {
     "end_time": "2023-07-12T05:38:30.955067191Z",
     "start_time": "2023-07-12T05:38:30.913756818Z"
    }
   }
  },
  {
   "cell_type": "code",
   "execution_count": 48,
   "outputs": [
    {
     "data": {
      "text/plain": "  channel_name                                               text        date  \\\n0    экономика  большинство страна евросоюз согласовать заморо...  2022-12-13   \n1    экономика  россия исключить список страна проект google п...  2022-12-13   \n2    экономика  глава еврокомиссия урсула фон дер ляйена надея...  2022-12-13   \n3    экономика  банк фиксировать рост интерес россиянин к вкла...  2022-12-11   \n4    экономика  понедельник декабрь соцсеть возвращать премиал...  2022-12-11   \n\n          label      sent  \n0    Economical  positive  \n1     Political  positive  \n2    Economical  positive  \n3    Economical  positive  \n4  Humanitarian  positive  ",
      "text/html": "<div>\n<style scoped>\n    .dataframe tbody tr th:only-of-type {\n        vertical-align: middle;\n    }\n\n    .dataframe tbody tr th {\n        vertical-align: top;\n    }\n\n    .dataframe thead th {\n        text-align: right;\n    }\n</style>\n<table border=\"1\" class=\"dataframe\">\n  <thead>\n    <tr style=\"text-align: right;\">\n      <th></th>\n      <th>channel_name</th>\n      <th>text</th>\n      <th>date</th>\n      <th>label</th>\n      <th>sent</th>\n    </tr>\n  </thead>\n  <tbody>\n    <tr>\n      <th>0</th>\n      <td>экономика</td>\n      <td>большинство страна евросоюз согласовать заморо...</td>\n      <td>2022-12-13</td>\n      <td>Economical</td>\n      <td>positive</td>\n    </tr>\n    <tr>\n      <th>1</th>\n      <td>экономика</td>\n      <td>россия исключить список страна проект google п...</td>\n      <td>2022-12-13</td>\n      <td>Political</td>\n      <td>positive</td>\n    </tr>\n    <tr>\n      <th>2</th>\n      <td>экономика</td>\n      <td>глава еврокомиссия урсула фон дер ляйена надея...</td>\n      <td>2022-12-13</td>\n      <td>Economical</td>\n      <td>positive</td>\n    </tr>\n    <tr>\n      <th>3</th>\n      <td>экономика</td>\n      <td>банк фиксировать рост интерес россиянин к вкла...</td>\n      <td>2022-12-11</td>\n      <td>Economical</td>\n      <td>positive</td>\n    </tr>\n    <tr>\n      <th>4</th>\n      <td>экономика</td>\n      <td>понедельник декабрь соцсеть возвращать премиал...</td>\n      <td>2022-12-11</td>\n      <td>Humanitarian</td>\n      <td>positive</td>\n    </tr>\n  </tbody>\n</table>\n</div>"
     },
     "execution_count": 48,
     "metadata": {},
     "output_type": "execute_result"
    }
   ],
   "source": [
    "df.head()"
   ],
   "metadata": {
    "collapsed": false,
    "ExecuteTime": {
     "end_time": "2023-07-12T05:38:31.477891072Z",
     "start_time": "2023-07-12T05:38:31.465439399Z"
    }
   }
  },
  {
   "cell_type": "code",
   "execution_count": 49,
   "outputs": [],
   "source": [
    "tokenizer = BertTokenizer.from_pretrained(\"bert-base-uncased\")"
   ],
   "metadata": {
    "collapsed": false,
    "ExecuteTime": {
     "end_time": "2023-07-12T05:38:32.327977550Z",
     "start_time": "2023-07-12T05:38:32.176047068Z"
    }
   }
  },
  {
   "cell_type": "code",
   "execution_count": 50,
   "outputs": [],
   "source": [
    "def encode_texts(dataset_: pd.DataFrame, pretrained_tokenizer: PreTrainedTokenizerBase) -> tuple[BatchEncoding, pd.Series, LabelEncoder]:\n",
    "    _encodings = pretrained_tokenizer(dataset_[\"text\"].tolist(), truncation=True, padding=True)\n",
    "\n",
    "    _label_encoder = LabelEncoder()\n",
    "    encoded_labels = _label_encoder.fit_transform(dataset_[\"label\"])\n",
    "    categorical_labels = to_categorical(encoded_labels)\n",
    "\n",
    "    return _encodings, categorical_labels, _label_encoder"
   ],
   "metadata": {
    "collapsed": false,
    "ExecuteTime": {
     "end_time": "2023-07-12T05:38:32.532755251Z",
     "start_time": "2023-07-12T05:38:32.530494179Z"
    }
   }
  },
  {
   "cell_type": "code",
   "execution_count": 51,
   "outputs": [],
   "source": [
    "encodings, labels, label_encoder = encode_texts(df, tokenizer)"
   ],
   "metadata": {
    "collapsed": false,
    "ExecuteTime": {
     "end_time": "2023-07-12T05:38:36.499367654Z",
     "start_time": "2023-07-12T05:38:34.444379403Z"
    }
   }
  },
  {
   "cell_type": "code",
   "execution_count": 54,
   "outputs": [],
   "source": [
    "def create_tf_dataset(encodings_: BatchEncoding, labels_: pd.Series) -> tf.data.Dataset:\n",
    "    input_ids = encodings_[\"input_ids\"]\n",
    "    attention_mask = encodings_[\"attention_mask\"]\n",
    "\n",
    "    input_dict = {\n",
    "        \"input_ids\": input_ids,\n",
    "        \"attention_mask\": attention_mask\n",
    "    }\n",
    "\n",
    "    dataset_ = tf.data.Dataset.from_tensor_slices((input_dict, labels_))\n",
    "    return dataset_.shuffle(1024).batch(32)"
   ],
   "metadata": {
    "collapsed": false,
    "ExecuteTime": {
     "end_time": "2023-07-12T05:38:57.131396561Z",
     "start_time": "2023-07-12T05:38:57.122809065Z"
    }
   }
  },
  {
   "cell_type": "code",
   "execution_count": 55,
   "outputs": [],
   "source": [
    "dataset = create_tf_dataset(encodings, labels)\n",
    "\n",
    "train_size = int(0.8 * len(dataset))\n",
    "val_size = len(dataset) - train_size\n",
    "train_dataset, validation_dataset = dataset.take(train_size), dataset.skip(val_size)"
   ],
   "metadata": {
    "collapsed": false,
    "ExecuteTime": {
     "end_time": "2023-07-12T05:39:01.176920571Z",
     "start_time": "2023-07-12T05:38:58.016404695Z"
    }
   }
  },
  {
   "cell_type": "code",
   "execution_count": 56,
   "outputs": [],
   "source": [
    "def create_model() -> keras.Model:\n",
    "    input_ids = layers.Input(shape=(512,), dtype=tf.int32, name=\"input_ids\")\n",
    "    attention_mask = layers.Input(shape=(512,), dtype=tf.int32, name=\"attention_mask\")\n",
    "\n",
    "    bert_model = TFBertForSequenceClassification.from_pretrained(\"bert-base-uncased\", num_labels=4, classifier_dropout=0.2)\n",
    "    bert_output = bert_model(input_ids, attention_mask=attention_mask).logits\n",
    "\n",
    "    _model = models.Model(inputs=[input_ids, attention_mask], outputs=bert_output)\n",
    "    _model.compile(optimizer=optimizers.Adam(learning_rate=1e-5), loss=losses.SparseCategoricalCrossentropy(from_logits=True), metrics=[metrics.Accuracy()])\n",
    "\n",
    "    return _model"
   ],
   "metadata": {
    "collapsed": false,
    "ExecuteTime": {
     "end_time": "2023-07-12T05:39:01.182632869Z",
     "start_time": "2023-07-12T05:39:01.180640301Z"
    }
   }
  },
  {
   "cell_type": "code",
   "execution_count": 57,
   "outputs": [
    {
     "name": "stderr",
     "output_type": "stream",
     "text": [
      "All PyTorch model weights were used when initializing TFBertForSequenceClassification.\n",
      "\n",
      "Some weights or buffers of the TF 2.0 model TFBertForSequenceClassification were not initialized from the PyTorch model and are newly initialized: ['classifier.weight', 'classifier.bias']\n",
      "You should probably TRAIN this model on a down-stream task to be able to use it for predictions and inference.\n"
     ]
    }
   ],
   "source": [
    "model = create_model()"
   ],
   "metadata": {
    "collapsed": false,
    "ExecuteTime": {
     "end_time": "2023-07-12T05:39:06.479312869Z",
     "start_time": "2023-07-12T05:39:02.948558324Z"
    }
   }
  },
  {
   "cell_type": "markdown",
   "source": [],
   "metadata": {
    "collapsed": false
   }
  },
  {
   "cell_type": "code",
   "execution_count": null,
   "outputs": [
    {
     "name": "stdout",
     "output_type": "stream",
     "text": [
      "Epoch 1/3\n"
     ]
    },
    {
     "name": "stderr",
     "output_type": "stream",
     "text": [
      "2023-07-12 08:39:06.493756: I tensorflow/core/common_runtime/executor.cc:1197] [/device:CPU:0] (DEBUG INFO) Executor start aborting (this does not indicate an error and you can ignore this message): INVALID_ARGUMENT: You must feed a value for placeholder tensor 'Placeholder/_2' with dtype float and shape [2858,4]\n",
      "\t [[{{node Placeholder/_2}}]]\n",
      "2023-07-12 08:39:06.494034: I tensorflow/core/common_runtime/executor.cc:1197] [/device:CPU:0] (DEBUG INFO) Executor start aborting (this does not indicate an error and you can ignore this message): INVALID_ARGUMENT: You must feed a value for placeholder tensor 'Placeholder/_2' with dtype float and shape [2858,4]\n",
      "\t [[{{node Placeholder/_2}}]]\n"
     ]
    }
   ],
   "source": [
    "history = model.fit(train_dataset, validation_data=validation_dataset, epochs=3)"
   ],
   "metadata": {
    "collapsed": false,
    "is_executing": true,
    "ExecuteTime": {
     "start_time": "2023-07-12T05:39:06.482798794Z"
    }
   }
  },
  {
   "cell_type": "code",
   "execution_count": null,
   "outputs": [],
   "source": [],
   "metadata": {
    "collapsed": false
   }
  },
  {
   "cell_type": "code",
   "execution_count": null,
   "outputs": [],
   "source": [],
   "metadata": {
    "collapsed": false,
    "is_executing": true
   }
  },
  {
   "cell_type": "code",
   "execution_count": null,
   "outputs": [],
   "source": [],
   "metadata": {
    "collapsed": false
   }
  }
 ],
 "metadata": {
  "kernelspec": {
   "display_name": "Python 3",
   "language": "python",
   "name": "python3"
  },
  "language_info": {
   "codemirror_mode": {
    "name": "ipython",
    "version": 2
   },
   "file_extension": ".py",
   "mimetype": "text/x-python",
   "name": "python",
   "nbconvert_exporter": "python",
   "pygments_lexer": "ipython2",
   "version": "2.7.6"
  }
 },
 "nbformat": 4,
 "nbformat_minor": 0
}
