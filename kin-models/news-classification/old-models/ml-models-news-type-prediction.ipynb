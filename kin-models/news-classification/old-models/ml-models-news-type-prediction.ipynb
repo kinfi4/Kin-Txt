{
 "cells": [
  {
   "cell_type": "code",
   "execution_count": 7,
   "id": "ba9393bc",
   "metadata": {},
   "outputs": [],
   "source": [
    "import re\n",
    "import json\n",
    "import pickle\n",
    "from string import punctuation\n",
    "\n",
    "import nltk\n",
    "import joblib\n",
    "import pandas as pd\n",
    "from sklearn.svm import SVC\n",
    "from sklearn.neighbors import KNeighborsClassifier\n",
    "from sklearn.naive_bayes import GaussianNB\n",
    "from sklearn.feature_extraction.text import TfidfVectorizer"
   ]
  },
  {
   "cell_type": "markdown",
   "id": "210805dc",
   "metadata": {},
   "source": [
    "## Data preprocessing"
   ]
  },
  {
   "cell_type": "code",
   "execution_count": 8,
   "id": "6117bcf8",
   "metadata": {},
   "outputs": [
    {
     "data": {
      "text/plain": "                  channel                                               text  \\\n0  раньше всех. ну почти.  президент эстонии алар карис признал удастся п...   \n1  раньше всех. ну почти.  россияне 24 февраля стали тратить раза новости...   \n2  раньше всех. ну почти.  суд приговорил эксполковника захарченко совоку...   \n3  раньше всех. ну почти.  евросоюз допустит украине закончилось оружие в...   \n4  раньше всех. ну почти.  сша активно привлекают участия боевых действия...   \n\n                  date        type sent  \n0  2022-05-17 18:20:01  Economical   -1  \n1  2022-05-17 18:11:38   Political   -1  \n2  2022-05-17 17:53:12    Shelling   -1  \n3  2022-05-17 17:44:46   Political   -1  \n4  2022-05-17 17:43:05   Political   -1  ",
      "text/html": "<div>\n<style scoped>\n    .dataframe tbody tr th:only-of-type {\n        vertical-align: middle;\n    }\n\n    .dataframe tbody tr th {\n        vertical-align: top;\n    }\n\n    .dataframe thead th {\n        text-align: right;\n    }\n</style>\n<table border=\"1\" class=\"dataframe\">\n  <thead>\n    <tr style=\"text-align: right;\">\n      <th></th>\n      <th>channel</th>\n      <th>text</th>\n      <th>date</th>\n      <th>type</th>\n      <th>sent</th>\n    </tr>\n  </thead>\n  <tbody>\n    <tr>\n      <th>0</th>\n      <td>раньше всех. ну почти.</td>\n      <td>президент эстонии алар карис признал удастся п...</td>\n      <td>2022-05-17 18:20:01</td>\n      <td>Economical</td>\n      <td>-1</td>\n    </tr>\n    <tr>\n      <th>1</th>\n      <td>раньше всех. ну почти.</td>\n      <td>россияне 24 февраля стали тратить раза новости...</td>\n      <td>2022-05-17 18:11:38</td>\n      <td>Political</td>\n      <td>-1</td>\n    </tr>\n    <tr>\n      <th>2</th>\n      <td>раньше всех. ну почти.</td>\n      <td>суд приговорил эксполковника захарченко совоку...</td>\n      <td>2022-05-17 17:53:12</td>\n      <td>Shelling</td>\n      <td>-1</td>\n    </tr>\n    <tr>\n      <th>3</th>\n      <td>раньше всех. ну почти.</td>\n      <td>евросоюз допустит украине закончилось оружие в...</td>\n      <td>2022-05-17 17:44:46</td>\n      <td>Political</td>\n      <td>-1</td>\n    </tr>\n    <tr>\n      <th>4</th>\n      <td>раньше всех. ну почти.</td>\n      <td>сша активно привлекают участия боевых действия...</td>\n      <td>2022-05-17 17:43:05</td>\n      <td>Political</td>\n      <td>-1</td>\n    </tr>\n  </tbody>\n</table>\n</div>"
     },
     "execution_count": 8,
     "metadata": {},
     "output_type": "execute_result"
    }
   ],
   "source": [
    "df = pd.read_csv(\n",
    "    './data/training-data/init-news.csv',\n",
    "    names=['channel', 'text', 'date', 'type', 'sent']\n",
    ")\n",
    "df.head()"
   ]
  },
  {
   "cell_type": "code",
   "execution_count": 9,
   "id": "001f938a",
   "metadata": {},
   "outputs": [
    {
     "data": {
      "text/plain": "Political       581\nShelling        377\nEconomical      339\nHumanitarian    271\nName: type, dtype: int64"
     },
     "execution_count": 9,
     "metadata": {},
     "output_type": "execute_result"
    }
   ],
   "source": [
    "df['type'].value_counts()"
   ]
  },
  {
   "cell_type": "code",
   "execution_count": 10,
   "outputs": [],
   "source": [
    "emoji_regex_compiled = re.compile(\n",
    "    \"[\"\n",
    "    u\"\\U0001F600-\\U0001F64F\"  # emoticons\n",
    "    u\"\\U0001F300-\\U0001F5FF\"  # symbols & pictographs\n",
    "    u\"\\U0001F680-\\U0001F6FF\"  # transport & map symbols\n",
    "    u\"\\U0001F1E0-\\U0001F1FF\"  # flags (iOS)\n",
    "    u\"\\U00002500-\\U00002BEF\"  # chinese char\n",
    "    u\"\\U00002702-\\U000027B0\"\n",
    "    u\"\\U00002702-\\U000027B0\"\n",
    "    u\"\\U000024C2-\\U0001F251\"\n",
    "    u\"\\U0001f926-\\U0001f937\"\n",
    "    u\"\\U00010000-\\U0010ffff\"\n",
    "    u\"\\u2640-\\u2642\"\n",
    "    u\"\\u2600-\\u2B55\"\n",
    "    u\"\\u200d\"\n",
    "    u\"\\u23cf\"\n",
    "    u\"\\u23e9\"\n",
    "    u\"\\u231a\"\n",
    "    u\"\\ufe0f\"  # dingbats\n",
    "    u\"\\u3030\"\n",
    "    \"]+\",\n",
    "    re.UNICODE\n",
    ")\n",
    "\n",
    "MAX_POST_LEN_IN_WORDS = 20\n",
    "\n",
    "with open(\"./config/RUSSIAN_STOP_WORDS.json\") as stop_words_file:\n",
    "    stop_words = json.load(stop_words_file)"
   ],
   "metadata": {
    "collapsed": false
   }
  },
  {
   "cell_type": "code",
   "execution_count": 11,
   "outputs": [],
   "source": [
    "def clean_text(text: str) -> str:\n",
    "    text = re.sub(r'[0-9]', '', text)\n",
    "    text = re.sub(r'<[^>]+>', ' ', text)\n",
    "    text = re.sub(r'https?://\\S+|www\\.\\S+', '', text)\n",
    "    text = re.sub(emoji_regex_compiled, '', text)\n",
    "\n",
    "    cleared_words = [word for word in nltk.word_tokenize(text) if word.isalpha() and word not in stop_words]\n",
    "    truncated_text = cleared_words[:MAX_POST_LEN_IN_WORDS]\n",
    "    text = ' '.join(truncated_text)\n",
    "\n",
    "    text = re.sub(rf'[{punctuation}]', '', text)\n",
    "    text = text.replace(' – ', ' ').replace(' - ', ' ').replace(' — ', ' ')\n",
    "    text = text.replace('»', '').replace('«', '')\n",
    "\n",
    "    text = re.sub(' +', ' ', text)\n",
    "\n",
    "    return text"
   ],
   "metadata": {
    "collapsed": false
   }
  },
  {
   "cell_type": "code",
   "execution_count": 12,
   "outputs": [],
   "source": [
    "df = df[~df['text'].isna()]\n",
    "df['text'] = df['text'].apply(clean_text)"
   ],
   "metadata": {
    "collapsed": false
   }
  },
  {
   "cell_type": "code",
   "execution_count": 13,
   "outputs": [
    {
     "data": {
      "text/plain": "0    президент эстонии алар карис признал удастся п...\n1    россияне февраля стали тратить раза новости ин...\n2    суд приговорил эксполковника захарченко совоку...\n3    евросоюз допустит украине закончилось оружие в...\n4    сша активно привлекают участия боевых действия...\nName: text, dtype: object"
     },
     "execution_count": 13,
     "metadata": {},
     "output_type": "execute_result"
    }
   ],
   "source": [
    "df['text'].head()"
   ],
   "metadata": {
    "collapsed": false
   }
  },
  {
   "cell_type": "code",
   "execution_count": 14,
   "id": "f96727ac",
   "metadata": {},
   "outputs": [],
   "source": [
    "vectorizer = TfidfVectorizer()\n",
    "\n",
    "texts = df['text']\n",
    "train_vectors = vectorizer.fit_transform(texts)"
   ]
  },
  {
   "cell_type": "code",
   "execution_count": 15,
   "id": "94ccd0d1",
   "metadata": {},
   "outputs": [],
   "source": [
    "pickle.dump(vectorizer, open('./trained-models/vectorizer.pk', 'wb'))"
   ]
  },
  {
   "cell_type": "code",
   "execution_count": 16,
   "id": "fc73c764",
   "metadata": {},
   "outputs": [
    {
     "data": {
      "text/plain": "Index(['Economical', 'Political', 'Shelling', 'Humanitarian'], dtype='object')"
     },
     "execution_count": 16,
     "metadata": {},
     "output_type": "execute_result"
    }
   ],
   "source": [
    "types = pd.factorize(df['type'])\n",
    "types[1]"
   ]
  },
  {
   "cell_type": "code",
   "execution_count": 17,
   "id": "a3ca0fd3",
   "metadata": {},
   "outputs": [],
   "source": [
    "df['type'] = types[0]"
   ]
  },
  {
   "cell_type": "code",
   "execution_count": 18,
   "id": "f4902020",
   "metadata": {},
   "outputs": [
    {
     "data": {
      "text/plain": "0    0\n1    1\n2    2\nName: type, dtype: int64"
     },
     "execution_count": 18,
     "metadata": {},
     "output_type": "execute_result"
    }
   ],
   "source": [
    "df['type'].head(3)"
   ]
  },
  {
   "cell_type": "markdown",
   "id": "ab0cfffb",
   "metadata": {},
   "source": [
    "## SVC Model"
   ]
  },
  {
   "cell_type": "code",
   "execution_count": 19,
   "id": "6c192e53",
   "metadata": {},
   "outputs": [],
   "source": [
    "svc = SVC(kernel='linear')\n",
    "\n",
    "svc = svc.fit(train_vectors, df['type'])"
   ]
  },
  {
   "cell_type": "code",
   "execution_count": 20,
   "id": "42140dc4",
   "metadata": {},
   "outputs": [],
   "source": [
    "joblib.dump(svc, open('./trained-models/svc-news-type-prediction.sav', 'wb'))"
   ]
  },
  {
   "cell_type": "markdown",
   "id": "84f6b834",
   "metadata": {},
   "source": [
    "# Gaussian"
   ]
  },
  {
   "cell_type": "code",
   "execution_count": 21,
   "id": "d2f04b89",
   "metadata": {},
   "outputs": [],
   "source": [
    "nb = GaussianNB()\n",
    "\n",
    "nb = nb.fit(train_vectors.toarray(), df['type'])"
   ]
  },
  {
   "cell_type": "code",
   "execution_count": 22,
   "id": "b8ca118c",
   "metadata": {},
   "outputs": [],
   "source": [
    "joblib.dump(nb, open('./trained-models/nb-news-type-prediction.sav', 'wb'))"
   ]
  },
  {
   "cell_type": "markdown",
   "id": "2bd5924e",
   "metadata": {},
   "source": [
    "## KNN Model"
   ]
  },
  {
   "cell_type": "code",
   "execution_count": 23,
   "id": "9cbe4b52",
   "metadata": {},
   "outputs": [],
   "source": [
    "knn = KNeighborsClassifier(n_neighbors=8)\n",
    "knn = knn.fit(train_vectors, df['type'])"
   ]
  },
  {
   "cell_type": "code",
   "execution_count": 24,
   "id": "6365e759",
   "metadata": {},
   "outputs": [],
   "source": [
    "joblib.dump(knn, open('./trained-models/knn-news-type-prediction.sav', 'wb'))"
   ]
  }
 ],
 "metadata": {
  "kernelspec": {
   "display_name": "Python 3",
   "language": "python",
   "name": "python3"
  },
  "language_info": {
   "codemirror_mode": {
    "name": "ipython",
    "version": 3
   },
   "file_extension": ".py",
   "mimetype": "text/x-python",
   "name": "python",
   "nbconvert_exporter": "python",
   "pygments_lexer": "ipython3",
   "version": "3.8.8"
  }
 },
 "nbformat": 4,
 "nbformat_minor": 5
}
