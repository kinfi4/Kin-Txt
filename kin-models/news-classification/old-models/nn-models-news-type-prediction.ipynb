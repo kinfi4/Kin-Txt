{
 "cells": [
  {
   "cell_type": "code",
   "execution_count": 1,
   "id": "b5c8d377",
   "metadata": {},
   "outputs": [
    {
     "name": "stderr",
     "output_type": "stream",
     "text": [
      "2023-01-08 10:37:14.851878: I tensorflow/core/platform/cpu_feature_guard.cc:193] This TensorFlow binary is optimized with oneAPI Deep Neural Network Library (oneDNN) to use the following CPU instructions in performance-critical operations:  AVX2 FMA\n",
      "To enable them in other operations, rebuild TensorFlow with the appropriate compiler flags.\n",
      "2023-01-08 10:37:15.625583: W tensorflow/compiler/xla/stream_executor/platform/default/dso_loader.cc:64] Could not load dynamic library 'libcudart.so.11.0'; dlerror: libcudart.so.11.0: cannot open shared object file: No such file or directory\n",
      "2023-01-08 10:37:15.625611: I tensorflow/compiler/xla/stream_executor/cuda/cudart_stub.cc:29] Ignore above cudart dlerror if you do not have a GPU set up on your machine.\n",
      "2023-01-08 10:37:18.535255: W tensorflow/compiler/xla/stream_executor/platform/default/dso_loader.cc:64] Could not load dynamic library 'libnvinfer.so.7'; dlerror: libnvinfer.so.7: cannot open shared object file: No such file or directory\n",
      "2023-01-08 10:37:18.535470: W tensorflow/compiler/xla/stream_executor/platform/default/dso_loader.cc:64] Could not load dynamic library 'libnvinfer_plugin.so.7'; dlerror: libnvinfer_plugin.so.7: cannot open shared object file: No such file or directory\n",
      "2023-01-08 10:37:18.535494: W tensorflow/compiler/tf2tensorrt/utils/py_utils.cc:38] TF-TRT Warning: Cannot dlopen some TensorRT libraries. If you would like to use Nvidia GPU with TensorRT, please make sure the missing libraries mentioned above are installed properly.\n"
     ]
    }
   ],
   "source": [
    "import re\n",
    "import json\n",
    "import pickle\n",
    "from string import punctuation\n",
    "\n",
    "import nltk\n",
    "import pandas as pd\n",
    "import matplotlib.pyplot as plt\n",
    "from keras.models import Sequential\n",
    "from keras.preprocessing.text import Tokenizer\n",
    "from keras_preprocessing.sequence import pad_sequences\n",
    "from keras import layers\n",
    "from keras.utils import to_categorical\n",
    "from keras.callbacks import ModelCheckpoint\n",
    "from sklearn.model_selection import train_test_split"
   ]
  },
  {
   "cell_type": "code",
   "execution_count": 2,
   "id": "326987b0",
   "metadata": {},
   "outputs": [],
   "source": [
    "def plot_hisory(history_dict: dict):\n",
    "    plt.plot(history_dict['accuracy'])\n",
    "    plt.plot(history_dict['val_accuracy'])\n",
    "    plt.title('model accuracy')\n",
    "    plt.ylabel('accuracy')\n",
    "    plt.xlabel('epoch')\n",
    "    plt.legend(['train', 'test'], loc='upper left')\n",
    "    plt.show()"
   ]
  },
  {
   "cell_type": "code",
   "execution_count": 3,
   "id": "78dce461",
   "metadata": {},
   "outputs": [],
   "source": [
    "def get_model_checkpoint_callback(filepath):\n",
    "    return ModelCheckpoint(\n",
    "        filepath,\n",
    "        save_best_only=True,\n",
    "        monitor='val_accuracy',\n",
    "        verbose=1\n",
    "    )"
   ]
  },
  {
   "cell_type": "markdown",
   "source": [
    "## Processing"
   ],
   "metadata": {
    "collapsed": false
   }
  },
  {
   "cell_type": "code",
   "execution_count": 4,
   "outputs": [],
   "source": [
    "NUMBER_OF_WORDS_TO_TOKENIZE = 20_000\n",
    "\n",
    "emoji_regex_compiled = re.compile(\n",
    "    \"[\"\n",
    "    u\"\\U0001F600-\\U0001F64F\"  # emoticons\n",
    "    u\"\\U0001F300-\\U0001F5FF\"  # symbols & pictographs\n",
    "    u\"\\U0001F680-\\U0001F6FF\"  # transport & map symbols\n",
    "    u\"\\U0001F1E0-\\U0001F1FF\"  # flags (iOS)\n",
    "    u\"\\U00002500-\\U00002BEF\"  # chinese char\n",
    "    u\"\\U00002702-\\U000027B0\"\n",
    "    u\"\\U00002702-\\U000027B0\"\n",
    "    u\"\\U000024C2-\\U0001F251\"\n",
    "    u\"\\U0001f926-\\U0001f937\"\n",
    "    u\"\\U00010000-\\U0010ffff\"\n",
    "    u\"\\u2640-\\u2642\"\n",
    "    u\"\\u2600-\\u2B55\"\n",
    "    u\"\\u200d\"\n",
    "    u\"\\u23cf\"\n",
    "    u\"\\u23e9\"\n",
    "    u\"\\u231a\"\n",
    "    u\"\\ufe0f\"  # dingbats\n",
    "    u\"\\u3030\"\n",
    "    \"]+\",\n",
    "    re.UNICODE\n",
    ")\n",
    "\n",
    "MAX_POST_LEN_IN_WORDS = 20\n",
    "\n",
    "with open(\"./config/RUSSIAN_STOP_WORDS.json\") as stop_words_file:\n",
    "    stop_words = json.load(stop_words_file)"
   ],
   "metadata": {
    "collapsed": false
   }
  },
  {
   "cell_type": "code",
   "execution_count": 5,
   "outputs": [],
   "source": [
    "def clean_text(text: str) -> str:\n",
    "    text = re.sub(r'[0-9]', '', text)\n",
    "    text = re.sub(r'<[^>]+>', ' ', text)\n",
    "    text = re.sub(r'https?://\\S+|www\\.\\S+', '', text)\n",
    "    text = re.sub(emoji_regex_compiled, '', text)\n",
    "\n",
    "    cleared_words = [word for word in nltk.word_tokenize(text) if word.isalpha() and word not in stop_words]\n",
    "    truncated_text = cleared_words[:MAX_POST_LEN_IN_WORDS]\n",
    "    text = ' '.join(truncated_text)\n",
    "\n",
    "    text = re.sub(rf'[{punctuation}]', '', text)\n",
    "    text = text.replace(' – ', ' ').replace(' - ', ' ').replace(' — ', ' ')\n",
    "    text = text.replace('»', '').replace('«', '')\n",
    "\n",
    "    text = re.sub(' +', ' ', text)\n",
    "\n",
    "    return text"
   ],
   "metadata": {
    "collapsed": false
   }
  },
  {
   "cell_type": "code",
   "execution_count": 6,
   "id": "1528d9de",
   "metadata": {},
   "outputs": [],
   "source": [
    "df = pd.read_csv(\n",
    "    './data/training-data/init-news.csv',\n",
    "    names=['channel', 'text', 'date', 'type', 'sent']\n",
    ")\n",
    "\n",
    "df = df[~df['text'].isna()]\n",
    "df['text'] = df['text'].apply(clean_text)"
   ]
  },
  {
   "cell_type": "code",
   "execution_count": 7,
   "id": "86c8593a",
   "metadata": {},
   "outputs": [
    {
     "data": {
      "text/plain": "                  channel                                               text  \\\n0  раньше всех. ну почти.  президент эстонии алар карис признал удастся п...   \n1  раньше всех. ну почти.  россияне февраля стали тратить раза новости ин...   \n2  раньше всех. ну почти.  суд приговорил эксполковника захарченко совоку...   \n3  раньше всех. ну почти.  евросоюз допустит украине закончилось оружие в...   \n4  раньше всех. ну почти.  сша активно привлекают участия боевых действия...   \n\n                  date        type sent  \n0  2022-05-17 18:20:01  Economical   -1  \n1  2022-05-17 18:11:38   Political   -1  \n2  2022-05-17 17:53:12    Shelling   -1  \n3  2022-05-17 17:44:46   Political   -1  \n4  2022-05-17 17:43:05   Political   -1  ",
      "text/html": "<div>\n<style scoped>\n    .dataframe tbody tr th:only-of-type {\n        vertical-align: middle;\n    }\n\n    .dataframe tbody tr th {\n        vertical-align: top;\n    }\n\n    .dataframe thead th {\n        text-align: right;\n    }\n</style>\n<table border=\"1\" class=\"dataframe\">\n  <thead>\n    <tr style=\"text-align: right;\">\n      <th></th>\n      <th>channel</th>\n      <th>text</th>\n      <th>date</th>\n      <th>type</th>\n      <th>sent</th>\n    </tr>\n  </thead>\n  <tbody>\n    <tr>\n      <th>0</th>\n      <td>раньше всех. ну почти.</td>\n      <td>президент эстонии алар карис признал удастся п...</td>\n      <td>2022-05-17 18:20:01</td>\n      <td>Economical</td>\n      <td>-1</td>\n    </tr>\n    <tr>\n      <th>1</th>\n      <td>раньше всех. ну почти.</td>\n      <td>россияне февраля стали тратить раза новости ин...</td>\n      <td>2022-05-17 18:11:38</td>\n      <td>Political</td>\n      <td>-1</td>\n    </tr>\n    <tr>\n      <th>2</th>\n      <td>раньше всех. ну почти.</td>\n      <td>суд приговорил эксполковника захарченко совоку...</td>\n      <td>2022-05-17 17:53:12</td>\n      <td>Shelling</td>\n      <td>-1</td>\n    </tr>\n    <tr>\n      <th>3</th>\n      <td>раньше всех. ну почти.</td>\n      <td>евросоюз допустит украине закончилось оружие в...</td>\n      <td>2022-05-17 17:44:46</td>\n      <td>Political</td>\n      <td>-1</td>\n    </tr>\n    <tr>\n      <th>4</th>\n      <td>раньше всех. ну почти.</td>\n      <td>сша активно привлекают участия боевых действия...</td>\n      <td>2022-05-17 17:43:05</td>\n      <td>Political</td>\n      <td>-1</td>\n    </tr>\n  </tbody>\n</table>\n</div>"
     },
     "execution_count": 7,
     "metadata": {},
     "output_type": "execute_result"
    }
   ],
   "source": [
    "df.head()"
   ]
  },
  {
   "cell_type": "code",
   "execution_count": 8,
   "id": "50b623f8",
   "metadata": {},
   "outputs": [
    {
     "data": {
      "text/plain": "Political       581\nShelling        377\nEconomical      339\nHumanitarian    271\nName: type, dtype: int64"
     },
     "execution_count": 8,
     "metadata": {},
     "output_type": "execute_result"
    }
   ],
   "source": [
    "df['type'].value_counts()"
   ]
  },
  {
   "cell_type": "code",
   "execution_count": 9,
   "id": "6970483a",
   "metadata": {},
   "outputs": [],
   "source": [
    "tokenizer = Tokenizer(num_words=NUMBER_OF_WORDS_TO_TOKENIZE)\n",
    "tokenizer.fit_on_texts(df['text'])"
   ]
  },
  {
   "cell_type": "code",
   "execution_count": 10,
   "id": "6896c12e",
   "metadata": {},
   "outputs": [],
   "source": [
    "pickle.dump(tokenizer, open('./trained-models/keras-tokenizer.pk', 'wb'))"
   ]
  },
  {
   "cell_type": "code",
   "execution_count": 13,
   "id": "d0d75b79",
   "metadata": {},
   "outputs": [],
   "source": [
    "text_sequences = pad_sequences(tokenizer.texts_to_sequences(df['text']), maxlen=MAX_POST_LEN_IN_WORDS, padding='pre', truncating='post')"
   ]
  },
  {
   "cell_type": "code",
   "execution_count": 14,
   "id": "9ea3365b",
   "metadata": {},
   "outputs": [],
   "source": [
    "df['type'] = pd.factorize(df['type'])[0]"
   ]
  },
  {
   "cell_type": "code",
   "execution_count": 15,
   "id": "87045ee7",
   "metadata": {},
   "outputs": [],
   "source": [
    "categorical_types = to_categorical(df['type'])"
   ]
  },
  {
   "cell_type": "code",
   "execution_count": 16,
   "id": "63d4754e",
   "metadata": {},
   "outputs": [],
   "source": [
    "x_train, x_test, y_train, y_test = train_test_split(\n",
    "    text_sequences,\n",
    "    categorical_types,\n",
    "    test_size=0.2\n",
    ")"
   ]
  },
  {
   "cell_type": "markdown",
   "id": "aab39283",
   "metadata": {},
   "source": [
    "# Building a LSTM model"
   ]
  },
  {
   "cell_type": "code",
   "execution_count": 17,
   "id": "e44b5029",
   "metadata": {},
   "outputs": [
    {
     "name": "stderr",
     "output_type": "stream",
     "text": [
      "2023-01-08 10:38:06.350595: W tensorflow/compiler/xla/stream_executor/platform/default/dso_loader.cc:64] Could not load dynamic library 'libcuda.so.1'; dlerror: libcuda.so.1: cannot open shared object file: No such file or directory\n",
      "2023-01-08 10:38:06.351006: W tensorflow/compiler/xla/stream_executor/cuda/cuda_driver.cc:265] failed call to cuInit: UNKNOWN ERROR (303)\n",
      "2023-01-08 10:38:06.351035: I tensorflow/compiler/xla/stream_executor/cuda/cuda_diagnostics.cc:156] kernel driver does not appear to be running on this host (kinfi4-laptop): /proc/driver/nvidia/version does not exist\n",
      "2023-01-08 10:38:06.351873: I tensorflow/core/platform/cpu_feature_guard.cc:193] This TensorFlow binary is optimized with oneAPI Deep Neural Network Library (oneDNN) to use the following CPU instructions in performance-critical operations:  AVX2 FMA\n",
      "To enable them in other operations, rebuild TensorFlow with the appropriate compiler flags.\n"
     ]
    }
   ],
   "source": [
    "lstm_model = Sequential([\n",
    "    layers.Embedding(NUMBER_OF_WORDS_TO_TOKENIZE, 16, input_length=MAX_POST_LEN_IN_WORDS),\n",
    "    layers.LSTM(32, recurrent_dropout=0.2),\n",
    "    layers.Dense(4, activation='softmax')\n",
    "])"
   ]
  },
  {
   "cell_type": "code",
   "execution_count": 18,
   "id": "69ce6ee9",
   "metadata": {},
   "outputs": [],
   "source": [
    "lstm_model.compile('adam', loss='categorical_crossentropy', metrics=['accuracy'])"
   ]
  },
  {
   "cell_type": "code",
   "execution_count": 19,
   "id": "b9a6ec05",
   "metadata": {},
   "outputs": [
    {
     "name": "stdout",
     "output_type": "stream",
     "text": [
      "Epoch 1/15\n",
      "36/36 [==============================] - ETA: 0s - loss: 1.3648 - accuracy: 0.3661\n",
      "Epoch 1: val_accuracy improved from -inf to 0.36508, saving model to ./trained-models/lstm-news-type-prediction.h5\n",
      "36/36 [==============================] - 4s 32ms/step - loss: 1.3648 - accuracy: 0.3661 - val_loss: 1.3431 - val_accuracy: 0.3651\n",
      "Epoch 2/15\n",
      "34/36 [===========================>..] - ETA: 0s - loss: 1.2984 - accuracy: 0.3686\n",
      "Epoch 2: val_accuracy improved from 0.36508 to 0.41270, saving model to ./trained-models/lstm-news-type-prediction.h5\n",
      "36/36 [==============================] - 1s 19ms/step - loss: 1.2975 - accuracy: 0.3697 - val_loss: 1.2685 - val_accuracy: 0.4127\n",
      "Epoch 3/15\n",
      "34/36 [===========================>..] - ETA: 0s - loss: 1.0512 - accuracy: 0.5037\n",
      "Epoch 3: val_accuracy improved from 0.41270 to 0.46032, saving model to ./trained-models/lstm-news-type-prediction.h5\n",
      "36/36 [==============================] - 1s 18ms/step - loss: 1.0550 - accuracy: 0.5044 - val_loss: 1.2452 - val_accuracy: 0.4603\n",
      "Epoch 4/15\n",
      "34/36 [===========================>..] - ETA: 0s - loss: 0.8925 - accuracy: 0.7399\n",
      "Epoch 4: val_accuracy improved from 0.46032 to 0.56349, saving model to ./trained-models/lstm-news-type-prediction.h5\n",
      "36/36 [==============================] - 1s 20ms/step - loss: 0.8893 - accuracy: 0.7420 - val_loss: 1.2028 - val_accuracy: 0.5635\n",
      "Epoch 5/15\n",
      "34/36 [===========================>..] - ETA: 0s - loss: 0.7575 - accuracy: 0.7583\n",
      "Epoch 5: val_accuracy did not improve from 0.56349\n",
      "36/36 [==============================] - 1s 18ms/step - loss: 0.7525 - accuracy: 0.7624 - val_loss: 1.1888 - val_accuracy: 0.5635\n",
      "Epoch 6/15\n",
      "35/36 [============================>.] - ETA: 0s - loss: 0.5794 - accuracy: 0.8098\n",
      "Epoch 6: val_accuracy improved from 0.56349 to 0.58730, saving model to ./trained-models/lstm-news-type-prediction.h5\n",
      "36/36 [==============================] - 1s 24ms/step - loss: 0.5783 - accuracy: 0.8103 - val_loss: 1.2008 - val_accuracy: 0.5873\n",
      "Epoch 7/15\n",
      "35/36 [============================>.] - ETA: 0s - loss: 0.3777 - accuracy: 0.8196\n",
      "Epoch 7: val_accuracy improved from 0.58730 to 0.61111, saving model to ./trained-models/lstm-news-type-prediction.h5\n",
      "36/36 [==============================] - 1s 21ms/step - loss: 0.3807 - accuracy: 0.8174 - val_loss: 1.2452 - val_accuracy: 0.6111\n",
      "Epoch 8/15\n",
      "35/36 [============================>.] - ETA: 0s - loss: 0.2573 - accuracy: 0.9214\n",
      "Epoch 8: val_accuracy improved from 0.61111 to 0.66667, saving model to ./trained-models/lstm-news-type-prediction.h5\n",
      "36/36 [==============================] - 1s 19ms/step - loss: 0.2582 - accuracy: 0.9211 - val_loss: 1.2136 - val_accuracy: 0.6667\n",
      "Epoch 9/15\n",
      "36/36 [==============================] - ETA: 0s - loss: 0.1461 - accuracy: 0.9663\n",
      "Epoch 9: val_accuracy improved from 0.66667 to 0.67460, saving model to ./trained-models/lstm-news-type-prediction.h5\n",
      "36/36 [==============================] - 1s 21ms/step - loss: 0.1461 - accuracy: 0.9663 - val_loss: 1.2977 - val_accuracy: 0.6746\n",
      "Epoch 10/15\n",
      "34/36 [===========================>..] - ETA: 0s - loss: 0.0844 - accuracy: 0.9890\n",
      "Epoch 10: val_accuracy improved from 0.67460 to 0.69048, saving model to ./trained-models/lstm-news-type-prediction.h5\n",
      "36/36 [==============================] - 1s 19ms/step - loss: 0.0851 - accuracy: 0.9885 - val_loss: 1.3227 - val_accuracy: 0.6905\n",
      "Epoch 11/15\n",
      "34/36 [===========================>..] - ETA: 0s - loss: 0.0583 - accuracy: 0.9917\n",
      "Epoch 11: val_accuracy did not improve from 0.69048\n",
      "36/36 [==============================] - 1s 18ms/step - loss: 0.0590 - accuracy: 0.9911 - val_loss: 1.3599 - val_accuracy: 0.6825\n",
      "Epoch 12/15\n",
      "33/36 [==========================>...] - ETA: 0s - loss: 0.0438 - accuracy: 0.9943\n",
      "Epoch 12: val_accuracy did not improve from 0.69048\n",
      "36/36 [==============================] - 1s 19ms/step - loss: 0.0438 - accuracy: 0.9938 - val_loss: 1.4122 - val_accuracy: 0.6905\n",
      "Epoch 13/15\n",
      "36/36 [==============================] - ETA: 0s - loss: 0.0347 - accuracy: 0.9973\n",
      "Epoch 13: val_accuracy improved from 0.69048 to 0.72222, saving model to ./trained-models/lstm-news-type-prediction.h5\n",
      "36/36 [==============================] - 1s 19ms/step - loss: 0.0347 - accuracy: 0.9973 - val_loss: 1.3893 - val_accuracy: 0.7222\n",
      "Epoch 14/15\n",
      "35/36 [============================>.] - ETA: 0s - loss: 0.0263 - accuracy: 0.9973\n",
      "Epoch 14: val_accuracy did not improve from 0.72222\n",
      "36/36 [==============================] - 1s 19ms/step - loss: 0.0262 - accuracy: 0.9973 - val_loss: 1.5585 - val_accuracy: 0.7143\n",
      "Epoch 15/15\n",
      "35/36 [============================>.] - ETA: 0s - loss: 0.0253 - accuracy: 0.9973\n",
      "Epoch 15: val_accuracy did not improve from 0.72222\n",
      "36/36 [==============================] - 1s 20ms/step - loss: 0.0252 - accuracy: 0.9973 - val_loss: 1.5222 - val_accuracy: 0.7063\n"
     ]
    }
   ],
   "source": [
    "save_callback = get_model_checkpoint_callback('./trained-models/lstm-news-type-prediction.h5')\n",
    "history = lstm_model.fit(\n",
    "    x=x_train,\n",
    "    y=y_train,\n",
    "    epochs=15,\n",
    "    batch_size=32,\n",
    "    validation_split=0.1,\n",
    "    callbacks=[save_callback]\n",
    ")"
   ]
  },
  {
   "cell_type": "code",
   "execution_count": 20,
   "id": "b0da03bf",
   "metadata": {},
   "outputs": [
    {
     "name": "stdout",
     "output_type": "stream",
     "text": [
      "The accuracy of the model = 0.697\n"
     ]
    }
   ],
   "source": [
    "score = lstm_model.evaluate(x_test, y_test, verbose=0)\n",
    "\n",
    "print(f'The accuracy of the model = {round(score[1], 3)}')"
   ]
  },
  {
   "cell_type": "code",
   "execution_count": 21,
   "id": "7e56fe9c",
   "metadata": {},
   "outputs": [
    {
     "data": {
      "text/plain": "<Figure size 640x480 with 1 Axes>",
      "image/png": "[encoded data removed]"
     },
     "metadata": {},
     "output_type": "display_data"
    }
   ],
   "source": [
    "plot_hisory(history.history)"
   ]
  },
  {
   "cell_type": "markdown",
   "id": "4a4e9c26",
   "metadata": {},
   "source": [
    "# Building CNN model"
   ]
  },
  {
   "cell_type": "code",
   "execution_count": 22,
   "id": "53e73dbf",
   "metadata": {},
   "outputs": [],
   "source": [
    "cnn_model = Sequential([\n",
    "    layers.Embedding(NUMBER_OF_WORDS_TO_TOKENIZE, 8, input_length=MAX_POST_LEN_IN_WORDS),\n",
    "    layers.Conv1D(250, 4, activation='relu', padding='same'),\n",
    "    layers.GlobalMaxPool1D(),\n",
    "    layers.Dense(128, activation='relu'),\n",
    "    layers.Dense(4, activation='softmax')\n",
    "])"
   ]
  },
  {
   "cell_type": "code",
   "execution_count": 23,
   "id": "728efb59",
   "metadata": {},
   "outputs": [],
   "source": [
    "cnn_model.compile('adam', loss='categorical_crossentropy', metrics=['accuracy'])"
   ]
  },
  {
   "cell_type": "code",
   "execution_count": 24,
   "id": "906fdd6a",
   "metadata": {},
   "outputs": [
    {
     "name": "stdout",
     "output_type": "stream",
     "text": [
      "Epoch 1/15\n",
      "31/36 [========================>.....] - ETA: 0s - loss: 1.3459 - accuracy: 0.3760\n",
      "Epoch 1: val_accuracy improved from -inf to 0.36508, saving model to ./trained-models/cnn-news-type-prediction.h5\n",
      "36/36 [==============================] - 2s 13ms/step - loss: 1.3486 - accuracy: 0.3688 - val_loss: 1.3303 - val_accuracy: 0.3651\n",
      "Epoch 2/15\n",
      "30/36 [========================>.....] - ETA: 0s - loss: 1.2966 - accuracy: 0.3698\n",
      "Epoch 2: val_accuracy did not improve from 0.36508\n",
      "36/36 [==============================] - 0s 6ms/step - loss: 1.2958 - accuracy: 0.3688 - val_loss: 1.2848 - val_accuracy: 0.3651\n",
      "Epoch 3/15\n",
      "36/36 [==============================] - ETA: 0s - loss: 1.1468 - accuracy: 0.4158\n",
      "Epoch 3: val_accuracy improved from 0.36508 to 0.50000, saving model to ./trained-models/cnn-news-type-prediction.h5\n",
      "36/36 [==============================] - 0s 9ms/step - loss: 1.1468 - accuracy: 0.4158 - val_loss: 1.2016 - val_accuracy: 0.5000\n",
      "Epoch 4/15\n",
      "29/36 [=======================>......] - ETA: 0s - loss: 0.9245 - accuracy: 0.6681\n",
      "Epoch 4: val_accuracy improved from 0.50000 to 0.60317, saving model to ./trained-models/cnn-news-type-prediction.h5\n",
      "36/36 [==============================] - 0s 8ms/step - loss: 0.8919 - accuracy: 0.6826 - val_loss: 1.1425 - val_accuracy: 0.6032\n",
      "Epoch 5/15\n",
      "35/36 [============================>.] - ETA: 0s - loss: 0.5021 - accuracy: 0.8134\n",
      "Epoch 5: val_accuracy improved from 0.60317 to 0.64286, saving model to ./trained-models/cnn-news-type-prediction.h5\n",
      "36/36 [==============================] - 0s 9ms/step - loss: 0.5008 - accuracy: 0.8138 - val_loss: 0.9919 - val_accuracy: 0.6429\n",
      "Epoch 6/15\n",
      "33/36 [==========================>...] - ETA: 0s - loss: 0.2037 - accuracy: 0.9432\n",
      "Epoch 6: val_accuracy improved from 0.64286 to 0.69841, saving model to ./trained-models/cnn-news-type-prediction.h5\n",
      "36/36 [==============================] - 0s 9ms/step - loss: 0.1997 - accuracy: 0.9468 - val_loss: 0.9919 - val_accuracy: 0.6984\n",
      "Epoch 7/15\n",
      "33/36 [==========================>...] - ETA: 0s - loss: 0.0648 - accuracy: 0.9972\n",
      "Epoch 7: val_accuracy improved from 0.69841 to 0.73016, saving model to ./trained-models/cnn-news-type-prediction.h5\n",
      "36/36 [==============================] - 0s 11ms/step - loss: 0.0626 - accuracy: 0.9973 - val_loss: 1.0567 - val_accuracy: 0.7302\n",
      "Epoch 8/15\n",
      "36/36 [==============================] - ETA: 0s - loss: 0.0219 - accuracy: 0.9991\n",
      "Epoch 8: val_accuracy improved from 0.73016 to 0.73810, saving model to ./trained-models/cnn-news-type-prediction.h5\n",
      "36/36 [==============================] - 0s 10ms/step - loss: 0.0219 - accuracy: 0.9991 - val_loss: 1.1161 - val_accuracy: 0.7381\n",
      "Epoch 9/15\n",
      "32/36 [=========================>....] - ETA: 0s - loss: 0.0111 - accuracy: 0.9990\n",
      "Epoch 9: val_accuracy improved from 0.73810 to 0.74603, saving model to ./trained-models/cnn-news-type-prediction.h5\n",
      "36/36 [==============================] - 0s 10ms/step - loss: 0.0106 - accuracy: 0.9991 - val_loss: 1.1714 - val_accuracy: 0.7460\n",
      "Epoch 10/15\n",
      "35/36 [============================>.] - ETA: 0s - loss: 0.0058 - accuracy: 1.0000\n",
      "Epoch 10: val_accuracy improved from 0.74603 to 0.76190, saving model to ./trained-models/cnn-news-type-prediction.h5\n",
      "36/36 [==============================] - 0s 10ms/step - loss: 0.0060 - accuracy: 1.0000 - val_loss: 1.2082 - val_accuracy: 0.7619\n",
      "Epoch 11/15\n",
      "33/36 [==========================>...] - ETA: 0s - loss: 0.0063 - accuracy: 0.9991\n",
      "Epoch 11: val_accuracy did not improve from 0.76190\n",
      "36/36 [==============================] - 0s 8ms/step - loss: 0.0061 - accuracy: 0.9991 - val_loss: 1.2384 - val_accuracy: 0.7540\n",
      "Epoch 12/15\n",
      "34/36 [===========================>..] - ETA: 0s - loss: 0.0028 - accuracy: 1.0000\n",
      "Epoch 12: val_accuracy did not improve from 0.76190\n",
      "36/36 [==============================] - 0s 8ms/step - loss: 0.0028 - accuracy: 1.0000 - val_loss: 1.2565 - val_accuracy: 0.7540\n",
      "Epoch 13/15\n",
      "34/36 [===========================>..] - ETA: 0s - loss: 0.0019 - accuracy: 1.0000\n",
      "Epoch 13: val_accuracy did not improve from 0.76190\n",
      "36/36 [==============================] - 0s 8ms/step - loss: 0.0019 - accuracy: 1.0000 - val_loss: 1.2773 - val_accuracy: 0.7540\n",
      "Epoch 14/15\n",
      "28/36 [======================>.......] - ETA: 0s - loss: 0.0015 - accuracy: 1.0000\n",
      "Epoch 14: val_accuracy did not improve from 0.76190\n",
      "36/36 [==============================] - 0s 7ms/step - loss: 0.0015 - accuracy: 1.0000 - val_loss: 1.2992 - val_accuracy: 0.7540\n",
      "Epoch 15/15\n",
      "30/36 [========================>.....] - ETA: 0s - loss: 0.0012 - accuracy: 1.0000\n",
      "Epoch 15: val_accuracy did not improve from 0.76190\n",
      "36/36 [==============================] - 0s 8ms/step - loss: 0.0012 - accuracy: 1.0000 - val_loss: 1.3158 - val_accuracy: 0.7540\n"
     ]
    }
   ],
   "source": [
    "save_callback = get_model_checkpoint_callback('./trained-models/cnn-news-type-prediction.h5')\n",
    "history = cnn_model.fit(\n",
    "    x=x_train,\n",
    "    y=y_train,\n",
    "    epochs=15,\n",
    "    batch_size=32,\n",
    "    validation_split=0.1,\n",
    "    callbacks=[save_callback]\n",
    ")"
   ]
  },
  {
   "cell_type": "code",
   "execution_count": 25,
   "id": "1c723ddb",
   "metadata": {},
   "outputs": [
    {
     "name": "stdout",
     "output_type": "stream",
     "text": [
      "The accuracy of the model = 0.672\n"
     ]
    }
   ],
   "source": [
    "score = cnn_model.evaluate(x_test, y_test, verbose=0)\n",
    "\n",
    "print(f'The accuracy of the model = {round(score[1], 3)}')"
   ]
  },
  {
   "cell_type": "code",
   "execution_count": 26,
   "id": "8d89be37",
   "metadata": {},
   "outputs": [
    {
     "data": {
      "text/plain": "<Figure size 640x480 with 1 Axes>",
      "image/png": "[encoded data removed]"
     },
     "metadata": {},
     "output_type": "display_data"
    }
   ],
   "source": [
    "plot_hisory(history.history)"
   ]
  }
 ],
 "metadata": {
  "kernelspec": {
   "display_name": "Python 3",
   "language": "python",
   "name": "python3"
  },
  "language_info": {
   "codemirror_mode": {
    "name": "ipython",
    "version": 3
   },
   "file_extension": ".py",
   "mimetype": "text/x-python",
   "name": "python",
   "nbconvert_exporter": "python",
   "pygments_lexer": "ipython3",
   "version": "3.8.8"
  }
 },
 "nbformat": 4,
 "nbformat_minor": 5
}
