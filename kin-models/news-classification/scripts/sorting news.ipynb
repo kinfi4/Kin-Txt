{
 "cells": [
  {
   "cell_type": "code",
   "execution_count": 1,
   "metadata": {
    "collapsed": true
   },
   "outputs": [],
   "source": [
    "import pandas as pd"
   ]
  },
  {
   "cell_type": "code",
   "execution_count": 11,
   "outputs": [],
   "source": [
    "df = pd.read_csv(\"../data/training-data/init-news.csv\", names=[\"ch\", \"text\", \"date\", \"category\", \"sent\"])"
   ],
   "metadata": {
    "collapsed": false
   }
  },
  {
   "cell_type": "code",
   "execution_count": 13,
   "outputs": [],
   "source": [
    "df = df.sort_values(by=\"category\")"
   ],
   "metadata": {
    "collapsed": false
   }
  },
  {
   "cell_type": "code",
   "execution_count": 14,
   "outputs": [],
   "source": [
    "df.to_csv(\"../data/training-data/init-sorted-news.csv\", index=False)"
   ],
   "metadata": {
    "collapsed": false
   }
  },
  {
   "cell_type": "code",
   "execution_count": 15,
   "outputs": [
    {
     "data": {
      "text/plain": "                                        ch  \\\n0                   раньше всех. ну почти.   \n603  украина 24/7 новости | война | новини   \n589  украина 24/7 новости | война | новини   \n588  украина 24/7 новости | война | новини   \n587  украина 24/7 новости | война | новини   \n\n                                                  text                 date  \\\n0    президент эстонии алар карис признал удастся п...  2022-05-17 18:20:01   \n603  германия выступает отключения российского круп...  2022-03-09 17:46:54   \n589                           отказаться нефти газа рф  2022-03-09 19:19:21   \n588                           отказаться нефти газа рф  2022-03-09 19:19:21   \n587  отключена swift страны g7 должны отказаться не...  2022-03-09 19:19:21   \n\n       category sent  \n0    Economical   -1  \n603  Economical    1  \n589  Economical   -1  \n588  Economical   -1  \n587  Economical   -1  ",
      "text/html": "<div>\n<style scoped>\n    .dataframe tbody tr th:only-of-type {\n        vertical-align: middle;\n    }\n\n    .dataframe tbody tr th {\n        vertical-align: top;\n    }\n\n    .dataframe thead th {\n        text-align: right;\n    }\n</style>\n<table border=\"1\" class=\"dataframe\">\n  <thead>\n    <tr style=\"text-align: right;\">\n      <th></th>\n      <th>ch</th>\n      <th>text</th>\n      <th>date</th>\n      <th>category</th>\n      <th>sent</th>\n    </tr>\n  </thead>\n  <tbody>\n    <tr>\n      <th>0</th>\n      <td>раньше всех. ну почти.</td>\n      <td>президент эстонии алар карис признал удастся п...</td>\n      <td>2022-05-17 18:20:01</td>\n      <td>Economical</td>\n      <td>-1</td>\n    </tr>\n    <tr>\n      <th>603</th>\n      <td>украина 24/7 новости | война | новини</td>\n      <td>германия выступает отключения российского круп...</td>\n      <td>2022-03-09 17:46:54</td>\n      <td>Economical</td>\n      <td>1</td>\n    </tr>\n    <tr>\n      <th>589</th>\n      <td>украина 24/7 новости | война | новини</td>\n      <td>отказаться нефти газа рф</td>\n      <td>2022-03-09 19:19:21</td>\n      <td>Economical</td>\n      <td>-1</td>\n    </tr>\n    <tr>\n      <th>588</th>\n      <td>украина 24/7 новости | война | новини</td>\n      <td>отказаться нефти газа рф</td>\n      <td>2022-03-09 19:19:21</td>\n      <td>Economical</td>\n      <td>-1</td>\n    </tr>\n    <tr>\n      <th>587</th>\n      <td>украина 24/7 новости | война | новини</td>\n      <td>отключена swift страны g7 должны отказаться не...</td>\n      <td>2022-03-09 19:19:21</td>\n      <td>Economical</td>\n      <td>-1</td>\n    </tr>\n  </tbody>\n</table>\n</div>"
     },
     "execution_count": 15,
     "metadata": {},
     "output_type": "execute_result"
    }
   ],
   "source": [
    "df.head()"
   ],
   "metadata": {
    "collapsed": false
   }
  }
 ],
 "metadata": {
  "kernelspec": {
   "display_name": "Python 3",
   "language": "python",
   "name": "python3"
  },
  "language_info": {
   "codemirror_mode": {
    "name": "ipython",
    "version": 2
   },
   "file_extension": ".py",
   "mimetype": "text/x-python",
   "name": "python",
   "nbconvert_exporter": "python",
   "pygments_lexer": "ipython2",
   "version": "2.7.6"
  }
 },
 "nbformat": 4,
 "nbformat_minor": 0
}
